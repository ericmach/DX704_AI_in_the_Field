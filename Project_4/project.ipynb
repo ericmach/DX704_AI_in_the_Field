{
  "cells": [
    {
      "cell_type": "markdown",
      "metadata": {
        "id": "Md413FzAvFD8"
      },
      "source": [
        "# DX 704 Week 4 Project\n",
        "\n",
        "This week's project will test the learning speed of linear contextual bandits compared to unoptimized approaches.\n",
        "You will start with building a preference data set for evaluation, and then implement different variations of LinUCB and visualize how fast they learn the preferences.\n"
      ]
    },
    {
      "cell_type": "markdown",
      "metadata": {
        "id": "D3gs-tquuzJe"
      },
      "source": [
        "The full project description, a template notebook and supporting code are available on GitHub: [Project 4 Materials](https://github.com/bu-cds-dx704/dx704-project-04).\n"
      ]
    },
    {
      "cell_type": "markdown",
      "metadata": {
        "id": "OguIjc5idW3Z"
      },
      "source": [
        "## Example Code\n",
        "\n",
        "You may find it helpful to refer to these GitHub repositories of Jupyter notebooks for example code.\n",
        "\n",
        "* https://github.com/bu-cds-omds/dx601-examples\n",
        "* https://github.com/bu-cds-omds/dx602-examples\n",
        "* https://github.com/bu-cds-omds/dx603-examples\n",
        "* https://github.com/bu-cds-omds/dx704-examples\n",
        "\n",
        "Any calculations demonstrated in code examples or videos may be found in these notebooks, and you are allowed to copy this example code in your homework answers."
      ]
    },
    {
      "cell_type": "markdown",
      "metadata": {
        "id": "C8oSLkMqvMFF"
      },
      "source": [
        "## Part 1: Collect Rating Data\n",
        "\n",
        "The file \"recipes.tsv\" in this repository has information about 100 recipes.\n",
        "Make a new file \"ratings.tsv\" with two columns, recipe_slug (from recipes.tsv) and rating.\n",
        "Populate the rating column with values between 0 and 1 where 0 is the worst and 1 is the best.\n",
        "You can assign these ratings however you want within that range, but try to make it reflect a consistent set of preferences.\n",
        "These could be your preferences, or a persona of your choosing (e.g. chocolate lover, bacon-obsessed, or sweet tooth).\n",
        "Make sure that there are at least 10 ratings of zero and at least 10 ratings of one.\n"
      ]
    },
    {
      "cell_type": "markdown",
      "metadata": {
        "id": "kAwViBgKfWER"
      },
      "source": [
        "Hint: You may find it more convenient to assign raw ratings from 1 to 5 and then remap them as follows.\n",
        "\n",
        "`ratings[\"rating\"] = (ratings[\"rating_raw\"] - 1) * 0.25`"
      ]
    },
    {
      "cell_type": "code",
      "execution_count": 4,
      "metadata": {},
      "outputs": [
        {
          "data": {
            "text/html": [
              "<div>\n",
              "<style scoped>\n",
              "    .dataframe tbody tr th:only-of-type {\n",
              "        vertical-align: middle;\n",
              "    }\n",
              "\n",
              "    .dataframe tbody tr th {\n",
              "        vertical-align: top;\n",
              "    }\n",
              "\n",
              "    .dataframe thead th {\n",
              "        text-align: right;\n",
              "    }\n",
              "</style>\n",
              "<table border=\"1\" class=\"dataframe\">\n",
              "  <thead>\n",
              "    <tr style=\"text-align: right;\">\n",
              "      <th></th>\n",
              "      <th>recipe_slug</th>\n",
              "      <th>rating</th>\n",
              "    </tr>\n",
              "  </thead>\n",
              "  <tbody>\n",
              "    <tr>\n",
              "      <th>0</th>\n",
              "      <td>falafel</td>\n",
              "      <td>0.50</td>\n",
              "    </tr>\n",
              "    <tr>\n",
              "      <th>1</th>\n",
              "      <td>spamburger</td>\n",
              "      <td>0.50</td>\n",
              "    </tr>\n",
              "    <tr>\n",
              "      <th>2</th>\n",
              "      <td>bacon-fried-rice</td>\n",
              "      <td>0.00</td>\n",
              "    </tr>\n",
              "    <tr>\n",
              "      <th>3</th>\n",
              "      <td>chicken-fingers</td>\n",
              "      <td>0.25</td>\n",
              "    </tr>\n",
              "    <tr>\n",
              "      <th>4</th>\n",
              "      <td>apple-crisp</td>\n",
              "      <td>0.75</td>\n",
              "    </tr>\n",
              "  </tbody>\n",
              "</table>\n",
              "</div>"
            ],
            "text/plain": [
              "        recipe_slug  rating\n",
              "0           falafel    0.50\n",
              "1        spamburger    0.50\n",
              "2  bacon-fried-rice    0.00\n",
              "3   chicken-fingers    0.25\n",
              "4       apple-crisp    0.75"
            ]
          },
          "execution_count": 4,
          "metadata": {},
          "output_type": "execute_result"
        }
      ],
      "source": [
        "import pandas as pd\n",
        "import numpy as np\n",
        "\n",
        "recipes = pd.read_csv(\"recipes.tsv\", sep=\"\\t\")\n",
        "\n",
        "# Sweet tooth persona\n",
        "def sweet_tooth(recipe_name):\n",
        "    name = recipe_name.lower()\n",
        "    if any(word in name for word in [\"cake\", \"cookie\", \"brownie\", \"chocolate\", \"pie\", \"pudding\", \"dessert\", \"candy\"]):\n",
        "        return 5\n",
        "    elif any(word in name for word in [\"fruit\", \"apple\", \"banana\", \"berry\", \"honey\", \"jam\"]):\n",
        "        return 4\n",
        "    elif any(word in name for word in [\"bread\", \"pasta\", \"rice\"]):\n",
        "        return 3\n",
        "    elif any(word in name for word in [\"chicken\", \"beef\", \"pork\", \"fish\", \"soup\", \"stew\"]):\n",
        "        return 2\n",
        "    elif any(word in name for word in [\"salad\", \"broccoli\", \"spinach\", \"cabbage\", \"pepper\", \"onion\"]):\n",
        "        return 1\n",
        "    else:\n",
        "        return 3\n",
        "\n",
        "recipes[\"rating_raw\"] = recipes[\"recipe_title\"].apply(sweet_tooth)\n",
        "\n",
        "# Map raw ratings (1-5) to 0-1 range\n",
        "recipes[\"rating\"] = (recipes[\"rating_raw\"] - 1) * 0.25\n",
        "\n",
        "ratings = recipes[[\"recipe_slug\", \"rating\"]]\n",
        "\n",
        "# Ensure at least 10 ratings of 0 and 10 of 1\n",
        "num_zeros = (ratings[\"rating\"] == 0).sum()\n",
        "num_ones = (ratings[\"rating\"] == 1).sum()\n",
        "\n",
        "# If not enough zeros or ones\n",
        "if num_zeros < 10:\n",
        "    zero_candidates = ratings[ratings[\"rating\"] > 0].sample(10 - num_zeros, random_state=0).index\n",
        "    ratings.loc[zero_candidates, \"rating\"] = 0\n",
        "\n",
        "if num_ones < 10:\n",
        "    one_candidates = ratings[ratings[\"rating\"] < 1].sample(10 - num_ones, random_state=1).index\n",
        "    ratings.loc[one_candidates, \"rating\"] = 1\n",
        "\n",
        "output_path = \"ratings.tsv\"\n",
        "ratings.to_csv(output_path, sep=\"\\t\", index=False)\n",
        "\n",
        "ratings.head()"
      ]
    },
    {
      "cell_type": "markdown",
      "metadata": {
        "id": "Eh7UaX6OvuWo"
      },
      "source": [
        "Submit \"ratings.tsv\" in Gradescope."
      ]
    },
    {
      "cell_type": "markdown",
      "metadata": {
        "id": "NiCwaZwr5M67"
      },
      "source": [
        "## Part 2: Construct Model Input\n",
        "\n",
        "Use your file \"ratings.tsv\" combined with \"recipe-tags.tsv\" to create a new file \"features.tsv\" with a column recipe_slug, a column bias which is hard-coded to one, and a column for each tag that appears in \"recipe-tags.tsv\".\n",
        "The tag column in this file should be a 0-1 encoding of the recipe tags for each recipe.\n",
        "[Pandas reshaping function methods](https://pandas.pydata.org/docs/user_guide/reshaping.html) may be helpful."
      ]
    },
    {
      "cell_type": "markdown",
      "metadata": {
        "id": "8WWi_JJXocEb"
      },
      "source": [
        "The bias column will make later LinUCB calculations easier since it will just be another dimension."
      ]
    },
    {
      "cell_type": "markdown",
      "metadata": {
        "id": "MHR-BsD9539j"
      },
      "source": [
        "Hint: For later modeling steps, it will be important to have the feature data (inputs) and the rating data (target outputs) in the same order.\n",
        "It is highly recommended to make sure that \"features.tsv\" and \"ratings.tsv\" have the recipe slugs in the same order."
      ]
    },
    {
      "cell_type": "code",
      "execution_count": 5,
      "metadata": {
        "id": "cGvj258d8nnv"
      },
      "outputs": [
        {
          "data": {
            "text/html": [
              "<div>\n",
              "<style scoped>\n",
              "    .dataframe tbody tr th:only-of-type {\n",
              "        vertical-align: middle;\n",
              "    }\n",
              "\n",
              "    .dataframe tbody tr th {\n",
              "        vertical-align: top;\n",
              "    }\n",
              "\n",
              "    .dataframe thead th {\n",
              "        text-align: right;\n",
              "    }\n",
              "</style>\n",
              "<table border=\"1\" class=\"dataframe\">\n",
              "  <thead>\n",
              "    <tr style=\"text-align: right;\">\n",
              "      <th>recipe_tag</th>\n",
              "      <th>recipe_slug</th>\n",
              "      <th>bias</th>\n",
              "      <th>alfredo</th>\n",
              "      <th>almond</th>\n",
              "      <th>american</th>\n",
              "      <th>appetizer</th>\n",
              "      <th>appetizers</th>\n",
              "      <th>apple</th>\n",
              "      <th>asiancuisine</th>\n",
              "      <th>asparagus</th>\n",
              "      <th>...</th>\n",
              "      <th>udonnoodles</th>\n",
              "      <th>vanilla</th>\n",
              "      <th>vanillaicecream</th>\n",
              "      <th>vegan</th>\n",
              "      <th>vegetables</th>\n",
              "      <th>vegetarian</th>\n",
              "      <th>warm</th>\n",
              "      <th>whippedcream</th>\n",
              "      <th>winter</th>\n",
              "      <th>yeastdough</th>\n",
              "    </tr>\n",
              "  </thead>\n",
              "  <tbody>\n",
              "    <tr>\n",
              "      <th>0</th>\n",
              "      <td>falafel</td>\n",
              "      <td>1</td>\n",
              "      <td>0.0</td>\n",
              "      <td>0.0</td>\n",
              "      <td>0.0</td>\n",
              "      <td>1.0</td>\n",
              "      <td>0.0</td>\n",
              "      <td>0.0</td>\n",
              "      <td>0.0</td>\n",
              "      <td>0.0</td>\n",
              "      <td>...</td>\n",
              "      <td>0.0</td>\n",
              "      <td>0.0</td>\n",
              "      <td>0.0</td>\n",
              "      <td>1.0</td>\n",
              "      <td>0.0</td>\n",
              "      <td>1.0</td>\n",
              "      <td>0.0</td>\n",
              "      <td>0.0</td>\n",
              "      <td>0.0</td>\n",
              "      <td>0.0</td>\n",
              "    </tr>\n",
              "    <tr>\n",
              "      <th>1</th>\n",
              "      <td>spamburger</td>\n",
              "      <td>1</td>\n",
              "      <td>0.0</td>\n",
              "      <td>0.0</td>\n",
              "      <td>0.0</td>\n",
              "      <td>0.0</td>\n",
              "      <td>0.0</td>\n",
              "      <td>0.0</td>\n",
              "      <td>0.0</td>\n",
              "      <td>0.0</td>\n",
              "      <td>...</td>\n",
              "      <td>0.0</td>\n",
              "      <td>0.0</td>\n",
              "      <td>0.0</td>\n",
              "      <td>0.0</td>\n",
              "      <td>0.0</td>\n",
              "      <td>0.0</td>\n",
              "      <td>0.0</td>\n",
              "      <td>0.0</td>\n",
              "      <td>0.0</td>\n",
              "      <td>0.0</td>\n",
              "    </tr>\n",
              "    <tr>\n",
              "      <th>2</th>\n",
              "      <td>bacon-fried-rice</td>\n",
              "      <td>1</td>\n",
              "      <td>0.0</td>\n",
              "      <td>0.0</td>\n",
              "      <td>0.0</td>\n",
              "      <td>0.0</td>\n",
              "      <td>0.0</td>\n",
              "      <td>0.0</td>\n",
              "      <td>0.0</td>\n",
              "      <td>0.0</td>\n",
              "      <td>...</td>\n",
              "      <td>0.0</td>\n",
              "      <td>0.0</td>\n",
              "      <td>0.0</td>\n",
              "      <td>0.0</td>\n",
              "      <td>1.0</td>\n",
              "      <td>0.0</td>\n",
              "      <td>0.0</td>\n",
              "      <td>0.0</td>\n",
              "      <td>0.0</td>\n",
              "      <td>0.0</td>\n",
              "    </tr>\n",
              "    <tr>\n",
              "      <th>3</th>\n",
              "      <td>chicken-fingers</td>\n",
              "      <td>1</td>\n",
              "      <td>0.0</td>\n",
              "      <td>0.0</td>\n",
              "      <td>0.0</td>\n",
              "      <td>1.0</td>\n",
              "      <td>0.0</td>\n",
              "      <td>0.0</td>\n",
              "      <td>0.0</td>\n",
              "      <td>0.0</td>\n",
              "      <td>...</td>\n",
              "      <td>0.0</td>\n",
              "      <td>0.0</td>\n",
              "      <td>0.0</td>\n",
              "      <td>0.0</td>\n",
              "      <td>0.0</td>\n",
              "      <td>0.0</td>\n",
              "      <td>0.0</td>\n",
              "      <td>0.0</td>\n",
              "      <td>0.0</td>\n",
              "      <td>0.0</td>\n",
              "    </tr>\n",
              "    <tr>\n",
              "      <th>4</th>\n",
              "      <td>apple-crisp</td>\n",
              "      <td>1</td>\n",
              "      <td>0.0</td>\n",
              "      <td>0.0</td>\n",
              "      <td>0.0</td>\n",
              "      <td>0.0</td>\n",
              "      <td>0.0</td>\n",
              "      <td>1.0</td>\n",
              "      <td>0.0</td>\n",
              "      <td>0.0</td>\n",
              "      <td>...</td>\n",
              "      <td>0.0</td>\n",
              "      <td>0.0</td>\n",
              "      <td>0.0</td>\n",
              "      <td>0.0</td>\n",
              "      <td>0.0</td>\n",
              "      <td>0.0</td>\n",
              "      <td>0.0</td>\n",
              "      <td>0.0</td>\n",
              "      <td>1.0</td>\n",
              "      <td>0.0</td>\n",
              "    </tr>\n",
              "  </tbody>\n",
              "</table>\n",
              "<p>5 rows × 298 columns</p>\n",
              "</div>"
            ],
            "text/plain": [
              "recipe_tag       recipe_slug  bias  alfredo  almond  american  appetizer  \\\n",
              "0                    falafel     1      0.0     0.0       0.0        1.0   \n",
              "1                 spamburger     1      0.0     0.0       0.0        0.0   \n",
              "2           bacon-fried-rice     1      0.0     0.0       0.0        0.0   \n",
              "3            chicken-fingers     1      0.0     0.0       0.0        1.0   \n",
              "4                apple-crisp     1      0.0     0.0       0.0        0.0   \n",
              "\n",
              "recipe_tag  appetizers  apple  asiancuisine  asparagus  ...  udonnoodles  \\\n",
              "0                  0.0    0.0           0.0        0.0  ...          0.0   \n",
              "1                  0.0    0.0           0.0        0.0  ...          0.0   \n",
              "2                  0.0    0.0           0.0        0.0  ...          0.0   \n",
              "3                  0.0    0.0           0.0        0.0  ...          0.0   \n",
              "4                  0.0    1.0           0.0        0.0  ...          0.0   \n",
              "\n",
              "recipe_tag  vanilla  vanillaicecream  vegan  vegetables  vegetarian  warm  \\\n",
              "0               0.0              0.0    1.0         0.0         1.0   0.0   \n",
              "1               0.0              0.0    0.0         0.0         0.0   0.0   \n",
              "2               0.0              0.0    0.0         1.0         0.0   0.0   \n",
              "3               0.0              0.0    0.0         0.0         0.0   0.0   \n",
              "4               0.0              0.0    0.0         0.0         0.0   0.0   \n",
              "\n",
              "recipe_tag  whippedcream  winter  yeastdough  \n",
              "0                    0.0     0.0         0.0  \n",
              "1                    0.0     0.0         0.0  \n",
              "2                    0.0     0.0         0.0  \n",
              "3                    0.0     0.0         0.0  \n",
              "4                    0.0     1.0         0.0  \n",
              "\n",
              "[5 rows x 298 columns]"
            ]
          },
          "execution_count": 5,
          "metadata": {},
          "output_type": "execute_result"
        }
      ],
      "source": [
        "# YOUR CHANGES HERE\n",
        "\n",
        "tags = pd.read_csv(\"recipe-tags.tsv\", sep=\"\\t\")\n",
        "\n",
        "features = tags.assign(value=1).pivot_table(\n",
        "    index=\"recipe_slug\", columns=\"recipe_tag\", values=\"value\", fill_value=0\n",
        ").reset_index()\n",
        "\n",
        "features[\"bias\"] = 1\n",
        "cols = [\"recipe_slug\", \"bias\"] + [c for c in features.columns if c not in [\"recipe_slug\", \"bias\"]]\n",
        "features = features[cols]\n",
        "\n",
        "# Align order with ratings\n",
        "features = features.set_index(\"recipe_slug\").reindex(ratings[\"recipe_slug\"]).reset_index()\n",
        "\n",
        "features_path = \"features.tsv\"\n",
        "features.to_csv(features_path, sep=\"\\t\", index=False)\n",
        "\n",
        "features.head()"
      ]
    },
    {
      "cell_type": "markdown",
      "metadata": {
        "id": "w63ji-Oi6oH7"
      },
      "source": [
        "Submit \"features.tsv\" in Gradescope."
      ]
    },
    {
      "cell_type": "markdown",
      "metadata": {
        "id": "4TeXvznlwJzo"
      },
      "source": [
        "## Part 3: Linear Preference Model\n",
        "\n",
        "Use your feature and rating files to build a ridge regression model with ridge regression's regularization parameter $\\alpha$ set to 1.\n"
      ]
    },
    {
      "cell_type": "markdown",
      "metadata": {
        "id": "aVlUnVv4oDIk"
      },
      "source": [
        "Hint: If you are using scikit-learn modeling classes, you should use `fit_intercept=False` since that intercept value will be redundant with the bias coefficient."
      ]
    },
    {
      "cell_type": "markdown",
      "metadata": {
        "id": "NLrBu-z7A45W"
      },
      "source": [
        "Hint: The estimate component of the bounds should match the previous estimate, so you should be able to just focus on the variance component of the bounds now."
      ]
    },
    {
      "cell_type": "code",
      "execution_count": 12,
      "metadata": {
        "id": "dxtiRunPwPYz"
      },
      "outputs": [],
      "source": [
        "# YOUR CHANGES HERE\n",
        "\n",
        "from sklearn.linear_model import Ridge\n",
        "\n",
        "ratings = pd.read_csv(\"ratings.tsv\", sep=\"\\t\")\n",
        "features = pd.read_csv(\"features.tsv\", sep=\"\\t\")\n",
        "\n",
        "X = features.drop(columns=[\"recipe_slug\"]).values\n",
        "y = ratings[\"rating\"].values\n",
        "\n",
        "ridge = Ridge(alpha=1.0, fit_intercept=False)\n",
        "ridge.fit(X, y)\n",
        "\n",
        "y_pred = ridge.predict(X)\n",
        "\n",
        "coef = ridge.coef_"
      ]
    },
    {
      "cell_type": "markdown",
      "metadata": {
        "id": "fw9LaHF_8tsA"
      },
      "source": [
        "Save the coefficients of this model in a file \"model.tsv\" with columns \"recipe_tag\" and \"coefficient\".\n",
        "Do not add anything for the `intercept_` attribute of a scikit-learn model; this will be covered by the coefficient for the bias column added in part 2."
      ]
    },
    {
      "cell_type": "code",
      "execution_count": 13,
      "metadata": {
        "id": "fiMBlU4L8uSR"
      },
      "outputs": [
        {
          "data": {
            "text/html": [
              "<div>\n",
              "<style scoped>\n",
              "    .dataframe tbody tr th:only-of-type {\n",
              "        vertical-align: middle;\n",
              "    }\n",
              "\n",
              "    .dataframe tbody tr th {\n",
              "        vertical-align: top;\n",
              "    }\n",
              "\n",
              "    .dataframe thead th {\n",
              "        text-align: right;\n",
              "    }\n",
              "</style>\n",
              "<table border=\"1\" class=\"dataframe\">\n",
              "  <thead>\n",
              "    <tr style=\"text-align: right;\">\n",
              "      <th></th>\n",
              "      <th>recipe_tag</th>\n",
              "      <th>coefficient</th>\n",
              "    </tr>\n",
              "  </thead>\n",
              "  <tbody>\n",
              "    <tr>\n",
              "      <th>0</th>\n",
              "      <td>bias</td>\n",
              "      <td>0.381034</td>\n",
              "    </tr>\n",
              "    <tr>\n",
              "      <th>1</th>\n",
              "      <td>alfredo</td>\n",
              "      <td>-0.021786</td>\n",
              "    </tr>\n",
              "    <tr>\n",
              "      <th>2</th>\n",
              "      <td>almond</td>\n",
              "      <td>0.063498</td>\n",
              "    </tr>\n",
              "    <tr>\n",
              "      <th>3</th>\n",
              "      <td>american</td>\n",
              "      <td>0.090574</td>\n",
              "    </tr>\n",
              "    <tr>\n",
              "      <th>4</th>\n",
              "      <td>appetizer</td>\n",
              "      <td>0.003991</td>\n",
              "    </tr>\n",
              "  </tbody>\n",
              "</table>\n",
              "</div>"
            ],
            "text/plain": [
              "  recipe_tag  coefficient\n",
              "0       bias     0.381034\n",
              "1    alfredo    -0.021786\n",
              "2     almond     0.063498\n",
              "3   american     0.090574\n",
              "4  appetizer     0.003991"
            ]
          },
          "execution_count": 13,
          "metadata": {},
          "output_type": "execute_result"
        }
      ],
      "source": [
        "# YOUR CHANGES HERE\n",
        "\n",
        "feature_names = features.drop(columns=[\"recipe_slug\"]).columns\n",
        "\n",
        "coef_df = pd.DataFrame({\n",
        "    \"recipe_tag\": feature_names,\n",
        "    \"coefficient\": ridge.coef_\n",
        "})\n",
        "\n",
        "model_path = \"model.tsv\"\n",
        "coef_df.to_csv(model_path, sep=\"\\t\", index=False)\n",
        "\n",
        "coef_df.head()"
      ]
    },
    {
      "cell_type": "markdown",
      "metadata": {
        "id": "86uS_zZ0wQxC"
      },
      "source": [
        "Submit \"model.tsv\" in Gradescope."
      ]
    },
    {
      "cell_type": "markdown",
      "metadata": {
        "id": "B1Nfs7zCsDpj"
      },
      "source": [
        "## Part 4: Recipe Estimates\n",
        "\n",
        "Use the recipe model to estimate the score of every recipe.\n",
        "Save these estimates to a file \"estimates.tsv\" with columns recipe_slug and score_estimate."
      ]
    },
    {
      "cell_type": "code",
      "execution_count": 9,
      "metadata": {
        "id": "pIClPwYVso5a"
      },
      "outputs": [
        {
          "data": {
            "text/html": [
              "<div>\n",
              "<style scoped>\n",
              "    .dataframe tbody tr th:only-of-type {\n",
              "        vertical-align: middle;\n",
              "    }\n",
              "\n",
              "    .dataframe tbody tr th {\n",
              "        vertical-align: top;\n",
              "    }\n",
              "\n",
              "    .dataframe thead th {\n",
              "        text-align: right;\n",
              "    }\n",
              "</style>\n",
              "<table border=\"1\" class=\"dataframe\">\n",
              "  <thead>\n",
              "    <tr style=\"text-align: right;\">\n",
              "      <th></th>\n",
              "      <th>recipe_slug</th>\n",
              "      <th>score_estimate</th>\n",
              "    </tr>\n",
              "  </thead>\n",
              "  <tbody>\n",
              "    <tr>\n",
              "      <th>0</th>\n",
              "      <td>falafel</td>\n",
              "      <td>0.482525</td>\n",
              "    </tr>\n",
              "    <tr>\n",
              "      <th>1</th>\n",
              "      <td>spamburger</td>\n",
              "      <td>0.494947</td>\n",
              "    </tr>\n",
              "    <tr>\n",
              "      <th>2</th>\n",
              "      <td>bacon-fried-rice</td>\n",
              "      <td>0.058390</td>\n",
              "    </tr>\n",
              "    <tr>\n",
              "      <th>3</th>\n",
              "      <td>chicken-fingers</td>\n",
              "      <td>0.261292</td>\n",
              "    </tr>\n",
              "    <tr>\n",
              "      <th>4</th>\n",
              "      <td>apple-crisp</td>\n",
              "      <td>0.741771</td>\n",
              "    </tr>\n",
              "  </tbody>\n",
              "</table>\n",
              "</div>"
            ],
            "text/plain": [
              "        recipe_slug  score_estimate\n",
              "0           falafel        0.482525\n",
              "1        spamburger        0.494947\n",
              "2  bacon-fried-rice        0.058390\n",
              "3   chicken-fingers        0.261292\n",
              "4       apple-crisp        0.741771"
            ]
          },
          "execution_count": 9,
          "metadata": {},
          "output_type": "execute_result"
        }
      ],
      "source": [
        "# YOUR CHANGES HERE\n",
        "\n",
        "score_estimates = ridge.predict(X)\n",
        "\n",
        "estimates_df = pd.DataFrame({\n",
        "    \"recipe_slug\": features[\"recipe_slug\"],\n",
        "    \"score_estimate\": score_estimates\n",
        "})\n",
        "\n",
        "estimates_path = \"estimates.tsv\"\n",
        "estimates_df.to_csv(estimates_path, sep=\"\\t\", index=False)\n",
        "\n",
        "estimates_df.head()"
      ]
    },
    {
      "cell_type": "markdown",
      "metadata": {
        "id": "i5t3uSE_srMA"
      },
      "source": [
        "Submit \"estimates.tsv\" in Gradescope."
      ]
    },
    {
      "cell_type": "markdown",
      "metadata": {
        "id": "yTBplNhRst8q"
      },
      "source": [
        "## Part 5: LinUCB Bounds\n",
        "\n",
        "Calculate the upper bounds of LinUCB using data corresponding to trying every recipe once and receiving the rating in \"ratings.tsv\" as the reward.\n",
        "Keep the ridge regression regularization parameter at 1, and set LinUCB's $\\alpha$ parameter to 2.\n",
        "Save these upper bounds to a file \"bounds.tsv\" with columns recipe_slug and score_bound."
      ]
    },
    {
      "cell_type": "code",
      "execution_count": 10,
      "metadata": {
        "id": "kY7aWD_PuP0W"
      },
      "outputs": [
        {
          "data": {
            "text/html": [
              "<div>\n",
              "<style scoped>\n",
              "    .dataframe tbody tr th:only-of-type {\n",
              "        vertical-align: middle;\n",
              "    }\n",
              "\n",
              "    .dataframe tbody tr th {\n",
              "        vertical-align: top;\n",
              "    }\n",
              "\n",
              "    .dataframe thead th {\n",
              "        text-align: right;\n",
              "    }\n",
              "</style>\n",
              "<table border=\"1\" class=\"dataframe\">\n",
              "  <thead>\n",
              "    <tr style=\"text-align: right;\">\n",
              "      <th></th>\n",
              "      <th>recipe_slug</th>\n",
              "      <th>score_bound</th>\n",
              "    </tr>\n",
              "  </thead>\n",
              "  <tbody>\n",
              "    <tr>\n",
              "      <th>0</th>\n",
              "      <td>falafel</td>\n",
              "      <td>2.248780</td>\n",
              "    </tr>\n",
              "    <tr>\n",
              "      <th>1</th>\n",
              "      <td>spamburger</td>\n",
              "      <td>2.389283</td>\n",
              "    </tr>\n",
              "    <tr>\n",
              "      <th>2</th>\n",
              "      <td>bacon-fried-rice</td>\n",
              "      <td>1.924547</td>\n",
              "    </tr>\n",
              "    <tr>\n",
              "      <th>3</th>\n",
              "      <td>chicken-fingers</td>\n",
              "      <td>2.055408</td>\n",
              "    </tr>\n",
              "    <tr>\n",
              "      <th>4</th>\n",
              "      <td>apple-crisp</td>\n",
              "      <td>2.518113</td>\n",
              "    </tr>\n",
              "  </tbody>\n",
              "</table>\n",
              "</div>"
            ],
            "text/plain": [
              "        recipe_slug  score_bound\n",
              "0           falafel     2.248780\n",
              "1        spamburger     2.389283\n",
              "2  bacon-fried-rice     1.924547\n",
              "3   chicken-fingers     2.055408\n",
              "4       apple-crisp     2.518113"
            ]
          },
          "execution_count": 10,
          "metadata": {},
          "output_type": "execute_result"
        }
      ],
      "source": [
        "# YOUR CHANGES HERE\n",
        "\n",
        "X = features.drop(columns=[\"recipe_slug\"]).values\n",
        "y = ratings[\"rating\"].values\n",
        "\n",
        "lambda_val = 1.0\n",
        "A = X.T @ X + lambda_val * np.identity(X.shape[1])\n",
        "A_inv = np.linalg.inv(A)\n",
        "\n",
        "theta_hat = ridge.coef_\n",
        "\n",
        "alpha = 2.0\n",
        "estimates = X @ theta_hat\n",
        "conf_terms = np.array([np.sqrt(x @ A_inv @ x) for x in X])\n",
        "upper_bounds = estimates + alpha * conf_terms\n",
        "\n",
        "bounds_df = pd.DataFrame({\n",
        "    \"recipe_slug\": features[\"recipe_slug\"],\n",
        "    \"score_bound\": upper_bounds\n",
        "})\n",
        "\n",
        "bounds_path = \"bounds.tsv\"\n",
        "bounds_df.to_csv(bounds_path, sep=\"\\t\", index=False)\n",
        "\n",
        "bounds_df.head()"
      ]
    },
    {
      "cell_type": "markdown",
      "metadata": {
        "id": "ZQ4RPppFvG-S"
      },
      "source": [
        "Submit \"bounds.tsv\" in Gradescope."
      ]
    },
    {
      "cell_type": "markdown",
      "metadata": {
        "id": "AfazOSWlwYsP"
      },
      "source": [
        "## Part 6: Make Online Recommendations\n",
        "\n",
        "Implement LinUCB to make 100 recommendations starting with no data and using the same parameters as in part 5.\n",
        "One recommendation should be made at a time and you can break ties arbitrarily.\n",
        "After each recommendation, use the rating from part 1 as the reward to update the LinUCB data.\n",
        "Record the recommendations made in a file \"recommendations.tsv\" with columns \"recipe_slug\", \"score_bound\", and \"reward\".\n",
        "The rows in this file should be in the same order as the recommendations were made."
      ]
    },
    {
      "cell_type": "code",
      "execution_count": 11,
      "metadata": {
        "id": "hQ7r45B7wm4v"
      },
      "outputs": [
        {
          "data": {
            "text/html": [
              "<div>\n",
              "<style scoped>\n",
              "    .dataframe tbody tr th:only-of-type {\n",
              "        vertical-align: middle;\n",
              "    }\n",
              "\n",
              "    .dataframe tbody tr th {\n",
              "        vertical-align: top;\n",
              "    }\n",
              "\n",
              "    .dataframe thead th {\n",
              "        text-align: right;\n",
              "    }\n",
              "</style>\n",
              "<table border=\"1\" class=\"dataframe\">\n",
              "  <thead>\n",
              "    <tr style=\"text-align: right;\">\n",
              "      <th></th>\n",
              "      <th>recipe_slug</th>\n",
              "      <th>score_bound</th>\n",
              "      <th>reward</th>\n",
              "    </tr>\n",
              "  </thead>\n",
              "  <tbody>\n",
              "    <tr>\n",
              "      <th>0</th>\n",
              "      <td>apple-crumble</td>\n",
              "      <td>7.483315</td>\n",
              "      <td>0.75</td>\n",
              "    </tr>\n",
              "    <tr>\n",
              "      <th>1</th>\n",
              "      <td>ma-la-chicken</td>\n",
              "      <td>7.242589</td>\n",
              "      <td>0.25</td>\n",
              "    </tr>\n",
              "    <tr>\n",
              "      <th>2</th>\n",
              "      <td>quesadillas</td>\n",
              "      <td>7.195355</td>\n",
              "      <td>0.50</td>\n",
              "    </tr>\n",
              "    <tr>\n",
              "      <th>3</th>\n",
              "      <td>ramen</td>\n",
              "      <td>7.204248</td>\n",
              "      <td>0.50</td>\n",
              "    </tr>\n",
              "    <tr>\n",
              "      <th>4</th>\n",
              "      <td>pain-au-chocolat</td>\n",
              "      <td>6.966548</td>\n",
              "      <td>0.50</td>\n",
              "    </tr>\n",
              "  </tbody>\n",
              "</table>\n",
              "</div>"
            ],
            "text/plain": [
              "        recipe_slug  score_bound  reward\n",
              "0     apple-crumble     7.483315    0.75\n",
              "1     ma-la-chicken     7.242589    0.25\n",
              "2       quesadillas     7.195355    0.50\n",
              "3             ramen     7.204248    0.50\n",
              "4  pain-au-chocolat     6.966548    0.50"
            ]
          },
          "execution_count": 11,
          "metadata": {},
          "output_type": "execute_result"
        }
      ],
      "source": [
        "# YOUR CHANGES HERE\n",
        "\n",
        "X = features.drop(columns=[\"recipe_slug\"]).values\n",
        "slugs = features[\"recipe_slug\"].tolist()\n",
        "y = ratings[\"rating\"].values\n",
        "\n",
        "lambda_val = 1.0\n",
        "alpha = 2.0\n",
        "d = X.shape[1]\n",
        "\n",
        "A = lambda_val * np.identity(d)\n",
        "A_inv = np.linalg.inv(A)\n",
        "b = np.zeros(d)\n",
        "\n",
        "recommendations = []\n",
        "\n",
        "for t in range(100):\n",
        "    theta_hat = A_inv @ b\n",
        "    \n",
        "    estimates = X @ theta_hat\n",
        "    conf_terms = np.sqrt(np.sum(X @ A_inv * X, axis=1))\n",
        "    ucbs = estimates + alpha * conf_terms\n",
        "    \n",
        "    choice_idx = np.argmax(ucbs)\n",
        "    choice_slug = slugs[choice_idx]\n",
        "    score_bound = ucbs[choice_idx]\n",
        "    reward = y[choice_idx]\n",
        "    \n",
        "    recommendations.append((choice_slug, score_bound, reward))\n",
        "    \n",
        "    x = X[choice_idx].reshape(-1, 1)\n",
        "    Ax = A_inv @ x\n",
        "    denom = 1.0 + (x.T @ Ax).item()\n",
        "    A_inv = A_inv - (Ax @ Ax.T) / denom\n",
        "    \n",
        "    b += reward * X[choice_idx]\n",
        "\n",
        "recs_df = pd.DataFrame(recommendations, columns=[\"recipe_slug\", \"score_bound\", \"reward\"])\n",
        "recs_path = \"recommendations.tsv\"\n",
        "recs_df.to_csv(recs_path, sep=\"\\t\", index=False)\n",
        "\n",
        "recs_df.head()"
      ]
    },
    {
      "cell_type": "markdown",
      "metadata": {
        "id": "23jv0cD0woSt"
      },
      "source": [
        "Submit \"recommendations.tsv\" in Gradescope."
      ]
    },
    {
      "cell_type": "markdown",
      "metadata": {
        "id": "zi8lV2pbvWMs"
      },
      "source": [
        "## Part 7: Acknowledgments\n",
        "\n",
        "Make a file \"acknowledgments.txt\" documenting any outside sources or help on this project.\n",
        "If you discussed this assignment with anyone, please acknowledge them here.\n",
        "If you used any libraries not mentioned in this module's content, please list them with a brief explanation what you used them for.\n",
        "If you used any generative AI tools, please add links to your transcripts below, and any other information that you feel is necessary to comply with the generative AI policy.\n",
        "If no acknowledgements are appropriate, just write none in the file.\n"
      ]
    },
    {
      "cell_type": "markdown",
      "metadata": {
        "id": "SuNJe62UxCoH"
      },
      "source": [
        "Submit \"acknowledgments.txt\" in Gradescope."
      ]
    },
    {
      "cell_type": "markdown",
      "metadata": {
        "id": "smsTLuFcvR-I"
      },
      "source": [
        "## Part 8: Code\n",
        "\n",
        "Please submit a Jupyter notebook that can reproduce all your calculations and recreate the previously submitted files.\n"
      ]
    },
    {
      "cell_type": "markdown",
      "metadata": {
        "id": "3cgzHyF7wxpr"
      },
      "source": [
        "Submit \"project.ipynb\" in Gradescope."
      ]
    }
  ],
  "metadata": {
    "colab": {
      "toc_visible": false
    },
    "kernelspec": {
      "display_name": "Python 3",
      "name": "python3"
    },
    "language_info": {
      "codemirror_mode": {
        "name": "ipython",
        "version": 3
      },
      "file_extension": ".py",
      "mimetype": "text/x-python",
      "name": "python",
      "nbconvert_exporter": "python",
      "pygments_lexer": "ipython3",
      "version": "3.12.1"
    }
  },
  "nbformat": 4,
  "nbformat_minor": 0
}
