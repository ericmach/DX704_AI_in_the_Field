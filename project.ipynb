{
  "cells": [
    {
      "cell_type": "markdown",
      "metadata": {
        "id": "DDELa7o5UXrY"
      },
      "source": [
        "# DX 704 Week 1 Project\n",
        "\n",
        "This week's project will build a portfolio risk and return model, and make investing recommendations for hypothetical clients.\n",
        "You will collect historical data, estimate returns and risks, construct efficient frontier portfolios, and sanity check the certainty of the maximum return portfolio."
      ]
    },
    {
      "cell_type": "markdown",
      "metadata": {
        "id": "P6SxppNu8p8k"
      },
      "source": [
        "The full project description and a template notebook are available on GitHub at the following link.\n",
        "\n",
        "https://github.com/bu-cds-dx704/dx704-project-01\n"
      ]
    },
    {
      "cell_type": "markdown",
      "metadata": {
        "id": "GmIaQcdCwObV"
      },
      "source": [
        "Feel free to use optimization tools or libraries (such as CVXOPT or scipy.optimize) to perform any calculations required for this mini project."
      ]
    },
    {
      "cell_type": "markdown",
      "metadata": {},
      "source": [
        "### Example Code\n",
        "\n",
        "You may find it helpful to refer to these GitHub repositories of Jupyter notebooks for example code.\n",
        "\n",
        "* https://github.com/bu-cds-omds/dx601-examples\n",
        "* https://github.com/bu-cds-omds/dx602-examples\n",
        "* https://github.com/bu-cds-omds/dx603-examples\n",
        "* https://github.com/bu-cds-omds/dx704-examples\n",
        "\n",
        "Any calculations demonstrated in code examples or videos may be found in these notebooks, and you are allowed to copy this example code in your homework answers."
      ]
    },
    {
      "cell_type": "markdown",
      "metadata": {
        "id": "pv3PslO0V5Lm"
      },
      "source": [
        "## Part 1: Collect Data\n",
        "\n",
        "Collect historical monthly price data for the last 24 months covering 6 different stocks.\n",
        "The data should cover 24 consecutive months including the last month that ended before this week's material was released on Blackboard.\n",
        "To be clear, if a month ends between the Blackboard release and submitting your project, you do not need to add that month.\n",
        "\n",
        "The six different stocks must include AAPL, SPY and TSLA.\n",
        "At least one of the remaining 3 tickers must start with the same letter as your last name (e.g. professor Considine could use COIN).\n",
        "This is to encourage diversity in what stocks you analyze; if you discuss this project with classmates, please make sure that you pick different tickers to differentiate your work.\n",
        "Do not pick stocks with fewer than 24 consecutive months of price data."
      ]
    },
    {
      "cell_type": "code",
      "execution_count": 2,
      "metadata": {
        "id": "6pL-ppubxfvC"
      },
      "outputs": [],
      "source": [
        "# YOUR CHANGES HERE\n",
        "\n",
        "import pandas as pd\n",
        "import yfinance as yf\n",
        "from dateutil.relativedelta import relativedelta\n",
        "from datetime import datetime"
      ]
    },
    {
      "cell_type": "code",
      "execution_count": 7,
      "metadata": {},
      "outputs": [
        {
          "name": "stderr",
          "output_type": "stream",
          "text": [
            "/var/folders/2r/46mxdql52bn78bp6pr2cps340000gn/T/ipykernel_2982/2848247681.py:19: FutureWarning: 'M' is deprecated and will be removed in a future version, please use 'ME' instead.\n",
            "  monthly_last = adj.resample(\"M\").last()\n",
            "/var/folders/2r/46mxdql52bn78bp6pr2cps340000gn/T/ipykernel_2982/2848247681.py:21: FutureWarning: 'M' is deprecated and will be removed in a future version, please use 'ME' instead.\n",
            "  target_month_ends = pd.date_range(start=start_month, end=cutoff_month_end, freq=\"M\")\n"
          ]
        }
      ],
      "source": [
        "tickers = [\"AAPL\", \"SPY\", \"TSLA\", \"MU\", \"AXP\", \"COST\"]\n",
        "\n",
        "cutoff_month_end = pd.Timestamp(\"2025-08-31\", tz=None) \n",
        "start_month = (cutoff_month_end - relativedelta(months=23)).replace(day=1)  \n",
        "\n",
        "start_date = (start_month - relativedelta(days=3)).strftime(\"%Y-%m-%d\")\n",
        "end_date = (cutoff_month_end + relativedelta(days=3)).strftime(\"%Y-%m-%d\")\n",
        "\n",
        "\n",
        "data = yf.download(tickers, start=start_date, end=end_date, auto_adjust=False, progress=False)\n",
        "if isinstance(data.columns, pd.MultiIndex):\n",
        "    adj = data[\"Adj Close\"].copy()\n",
        "else:\n",
        "    adj = data.rename(columns=str).copy()\n",
        "\n",
        "\n",
        "adj.index = pd.to_datetime(adj.index).tz_localize(None)\n",
        "\n",
        "monthly_last = adj.resample(\"M\").last()\n",
        "\n",
        "target_month_ends = pd.date_range(start=start_month, end=cutoff_month_end, freq=\"M\")\n",
        "monthly_last = monthly_last.reindex(target_month_ends).dropna(how=\"all\")\n",
        "\n",
        "\n",
        "out = monthly_last.copy()\n",
        "out.index.name = \"date\"\n",
        "out = out[tickers]  \n",
        "\n",
        "out_reset = out.reset_index()\n",
        "out_reset[\"date\"] = out_reset[\"date\"].dt.strftime(\"%Y-%m-%d\")"
      ]
    },
    {
      "cell_type": "markdown",
      "metadata": {
        "id": "1uH9oDQ1rEQT"
      },
      "source": [
        "Save the data as a TSV file named \"historical_prices.tsv\" and include a header row with the column names \"date\" and the 6 stock ticker symbols.\n",
        "The date should be the last trading day of the month, so it may not be the last day of the month.\n",
        "For example, the last trading day of November 2024 was 2024-11-29.\n",
        "The remaining columns should contain the adjusted closing prices of the corresponding stock tickers on that day.\n"
      ]
    },
    {
      "cell_type": "code",
      "execution_count": 5,
      "metadata": {
        "id": "mHbwKHOhtQ3E"
      },
      "outputs": [],
      "source": [
        "# YOUR CHANGES HERE\n",
        "\n",
        "out_reset.to_csv(\"historical_prices.tsv\", sep=\"\\t\", index=False)"
      ]
    },
    {
      "cell_type": "markdown",
      "metadata": {
        "id": "2hp0yuXPtT9V"
      },
      "source": [
        "Submit \"historical_prices.tsv\" in Gradescope."
      ]
    },
    {
      "cell_type": "markdown",
      "metadata": {
        "id": "7XdNVWWirUd5"
      },
      "source": [
        "## Part 2: Calculate Historical Asset Returns\n",
        "\n",
        "Calculate the historical asset returns based on the price data that you previously collected."
      ]
    },
    {
      "cell_type": "code",
      "execution_count": 8,
      "metadata": {
        "id": "aL-kVua2xex-"
      },
      "outputs": [],
      "source": [
        "# YOUR CHANGES HERE\n",
        "\n",
        "prices = pd.read_csv(\"historical_prices.tsv\", sep=\"\\t\")\n",
        "\n",
        "prices[\"date\"] = pd.to_datetime(prices[\"date\"])\n",
        "\n",
        "returns = prices.set_index(\"date\").pct_change().dropna()\n",
        "\n",
        "returns = returns.reset_index()"
      ]
    },
    {
      "cell_type": "markdown",
      "metadata": {
        "id": "OjhEYCWOrIu3"
      },
      "source": [
        "Save the data as a TSV file named \"historical_returns.tsv\" and include a header row with the column names \"date\" and the 6 stock ticker symbols.\n",
        "Each row should have the date at the end of the month and the corresponding *relative* price changes.\n",
        "For example, if the previous price was \\$100 and the new price is \\$110, the return value should be 0.10.\n",
        "There should only be 23 rows of data in this file, since they are computed as the differences of 24 prices."
      ]
    },
    {
      "cell_type": "code",
      "execution_count": 9,
      "metadata": {
        "id": "cN-7q9QvvyKG"
      },
      "outputs": [],
      "source": [
        "# YOUR CHANGES HERE\n",
        "\n",
        "returns.to_csv(\"historical_returns.tsv\", sep=\"\\t\", index=False)"
      ]
    },
    {
      "cell_type": "markdown",
      "metadata": {
        "id": "vyBtnCTUtfRq"
      },
      "source": [
        "Submit \"historical_returns.tsv\" in Gradescope."
      ]
    },
    {
      "cell_type": "markdown",
      "metadata": {
        "id": "MoCkf4ouV9IA"
      },
      "source": [
        "## Part 3: Estimate Returns\n",
        "\n",
        "Estimate the expected returns for each asset using the previously calculated return data.\n",
        "Just compute the average (mean) return for each asset over your data set; do not use other estimators that have been mentioned.\n",
        "This will serve as your estimate of expected return for each asset."
      ]
    },
    {
      "cell_type": "code",
      "execution_count": 10,
      "metadata": {
        "id": "N2iDEhSRxd2n"
      },
      "outputs": [],
      "source": [
        "# YOUR CHANGES HERE\n",
        "\n",
        "returns = pd.read_csv(\"historical_returns.tsv\", sep=\"\\t\")\n",
        "\n",
        "asset_returns = returns.drop(columns=[\"date\"])\n",
        "\n",
        "means = asset_returns.mean()\n",
        "\n",
        "estimated = pd.DataFrame({\n",
        "    \"asset\": means.index,\n",
        "    \"estimated_return\": means.values\n",
        "})"
      ]
    },
    {
      "cell_type": "markdown",
      "metadata": {
        "id": "e5YTEwoarM2M"
      },
      "source": [
        "Save the estimated returns in a TSV file named \"estimated_returns.tsv\" and include a header row with the column names \"asset\" and \"estimated_return\"."
      ]
    },
    {
      "cell_type": "code",
      "execution_count": 11,
      "metadata": {
        "id": "At71YDpwvwUw"
      },
      "outputs": [],
      "source": [
        "# YOUR CHANGES HERE\n",
        "\n",
        "estimated.to_csv(\"estimated_returns.tsv\", sep=\"\\t\", index=False)"
      ]
    },
    {
      "cell_type": "markdown",
      "metadata": {
        "id": "cjfnF-2Wtj6r"
      },
      "source": [
        "Submit \"estimated_returns.tsv\" in Gradescope."
      ]
    },
    {
      "cell_type": "markdown",
      "metadata": {
        "id": "VTuIqrkAWXVL"
      },
      "source": [
        "## Part 4: Estimate Risk\n",
        "\n",
        "Estimate the covariance matrix for the asset returns to understand how the assets move together."
      ]
    },
    {
      "cell_type": "code",
      "execution_count": 12,
      "metadata": {
        "id": "RFZfIkTMxcv7"
      },
      "outputs": [],
      "source": [
        "# YOUR CHANGES HERE\n",
        "\n",
        "returns = pd.read_csv(\"historical_returns.tsv\", sep=\"\\t\")\n",
        "\n",
        "asset_returns = returns.drop(columns=[\"date\"])\n",
        "\n",
        "cov_matrix = asset_returns.cov()"
      ]
    },
    {
      "cell_type": "markdown",
      "metadata": {
        "id": "sOmn4s_yr5qn"
      },
      "source": [
        "Save the estimated covariances to a TSV file named \"estimated_covariance.tsv\".\n",
        "The header row should have a blank column name followed by the names of the assets.\n",
        "Each data row should start with the name of an asset for that row, and be followed by the individual covariances corresponding to that row and column's assets.\n",
        "(This is the format of pandas's `to_csv` method with `sep=\"\\t\"` when used on a covariance matrix as computed in the examples.)"
      ]
    },
    {
      "cell_type": "code",
      "execution_count": 13,
      "metadata": {
        "id": "Te-NPQxSvuXm"
      },
      "outputs": [],
      "source": [
        "# YOUR CHANGES HERE\n",
        "\n",
        "cov_matrix.to_csv(\"estimated_covariance.tsv\", sep=\"\\t\")"
      ]
    },
    {
      "cell_type": "markdown",
      "metadata": {
        "id": "lS9vek0btoK6"
      },
      "source": [
        "Submit \"estimated_covariance.tsv\" in Gradescope."
      ]
    },
    {
      "cell_type": "markdown",
      "metadata": {
        "id": "C8rC5Eo3sEme"
      },
      "source": [
        "## Part 5: Construct the Maximum Return Portfolio\n",
        "\n",
        "Compute the maximum return portfolio based on your previously estimated risks and returns."
      ]
    },
    {
      "cell_type": "code",
      "execution_count": 32,
      "metadata": {
        "id": "8LW0KKm-xb2I"
      },
      "outputs": [],
      "source": [
        "# YOUR CHANGES HERE\n",
        "\n",
        "import cvxpy as cp\n",
        "import numpy as np"
      ]
    },
    {
      "cell_type": "markdown",
      "metadata": {
        "id": "jjPOxui5sLTD"
      },
      "source": [
        "Save the maximum return portfolio in a TSV file named \"maximum_return.tsv\".\n",
        "The header row should have two columns, \"asset\" and \"allocation\".\n",
        "The allocation values should sum up to one.\n"
      ]
    },
    {
      "cell_type": "code",
      "execution_count": 26,
      "metadata": {
        "id": "xLl_j8z1vtiT"
      },
      "outputs": [
        {
          "data": {
            "text/plain": [
              "Maximize(Expression(AFFINE, UNKNOWN, (1,)))"
            ]
          },
          "execution_count": 26,
          "metadata": {},
          "output_type": "execute_result"
        }
      ],
      "source": [
        "# YOUR CHANGES HERE\n",
        "\n",
        "est = pd.read_csv(\"estimated_returns.tsv\", sep=\"\\t\")\n",
        "assets = est[\"asset\"].tolist()\n",
        "mu = est[\"estimated_return\"].values\n",
        "\n",
        "n = len(assets)\n",
        "x = cp.Variable(n)  \n",
        "\n",
        "objective = cp.Maximize(mu.reshape(1,-1) @ x)\n",
        "objective\n"
      ]
    },
    {
      "cell_type": "code",
      "execution_count": 28,
      "metadata": {},
      "outputs": [],
      "source": [
        "prob = cp.Problem(objective, [cp.sum(x) == 1, x >= 0])"
      ]
    },
    {
      "cell_type": "code",
      "execution_count": 29,
      "metadata": {},
      "outputs": [
        {
          "data": {
            "text/plain": [
              "0.03858580958435765"
            ]
          },
          "execution_count": 29,
          "metadata": {},
          "output_type": "execute_result"
        }
      ],
      "source": [
        "estimated_return = prob.solve()\n",
        "estimated_return"
      ]
    },
    {
      "cell_type": "code",
      "execution_count": 45,
      "metadata": {},
      "outputs": [
        {
          "data": {
            "text/plain": [
              "array([0., 0., 0., 0., 1., 0.])"
            ]
          },
          "execution_count": 45,
          "metadata": {},
          "output_type": "execute_result"
        }
      ],
      "source": [
        "x.value.round(2)"
      ]
    },
    {
      "cell_type": "code",
      "execution_count": 37,
      "metadata": {},
      "outputs": [],
      "source": [
        "max_ret = pd.DataFrame({\"asset\": assets, \"allocation\": x.value})\n",
        "max_ret.to_csv(\"maximum_return.tsv\", sep=\"\\t\", index=False)"
      ]
    },
    {
      "cell_type": "markdown",
      "metadata": {
        "id": "4bm3xrxptqJ2"
      },
      "source": [
        "Submit \"maximum_return.tsv\" in Gradescope."
      ]
    },
    {
      "cell_type": "markdown",
      "metadata": {
        "id": "r_QxQ5NpsL-c"
      },
      "source": [
        "## Part 6: Construct the Minimum Risk Portfolio\n",
        "\n",
        "Compute the minimum risk portfolio based on your previously estimated risks."
      ]
    },
    {
      "cell_type": "code",
      "execution_count": 38,
      "metadata": {
        "id": "daHSqhv9xbIF"
      },
      "outputs": [],
      "source": [
        "# YOUR CHANGES HERE\n",
        "\n",
        "x_minimum_risk = cp.Variable(n)"
      ]
    },
    {
      "cell_type": "markdown",
      "metadata": {
        "id": "wzldkIPxsQor"
      },
      "source": [
        "Save the minimum risk portfolio in a TSV file named \"minimum_risk.tsv\".\n",
        "The header row should have two columns, \"asset\" and \"allocation\".\n",
        "The allocation values should sum up to one.\n"
      ]
    },
    {
      "cell_type": "code",
      "execution_count": 40,
      "metadata": {
        "id": "YRXccAflvrBZ"
      },
      "outputs": [
        {
          "data": {
            "text/plain": [
              "Minimize(Expression(CONVEX, NONNEGATIVE, ()))"
            ]
          },
          "execution_count": 40,
          "metadata": {},
          "output_type": "execute_result"
        }
      ],
      "source": [
        "# YOUR CHANGES HERE\n",
        "\n",
        "objective_minimum_risk = cp.Minimize(x_minimum_risk.T @ cov_matrix.values @ x_minimum_risk)\n",
        "objective_minimum_risk"
      ]
    },
    {
      "cell_type": "code",
      "execution_count": 41,
      "metadata": {},
      "outputs": [
        {
          "data": {
            "text/plain": [
              "np.float64(0.0012272730345498364)"
            ]
          },
          "execution_count": 41,
          "metadata": {},
          "output_type": "execute_result"
        }
      ],
      "source": [
        "prob_minimum_risk = cp.Problem(objective_minimum_risk, [cp.sum(x_minimum_risk) == 1, x_minimum_risk >= 0])\n",
        "\n",
        "covariance_minimum_risk = prob_minimum_risk.solve()\n",
        "covariance_minimum_risk"
      ]
    },
    {
      "cell_type": "code",
      "execution_count": 44,
      "metadata": {},
      "outputs": [
        {
          "data": {
            "text/plain": [
              "array([ 0.14,  0.86, -0.  , -0.  , -0.  , -0.  ])"
            ]
          },
          "execution_count": 44,
          "metadata": {},
          "output_type": "execute_result"
        }
      ],
      "source": [
        "x_minimum_risk.value.round(2)"
      ]
    },
    {
      "cell_type": "code",
      "execution_count": 46,
      "metadata": {},
      "outputs": [],
      "source": [
        "min_risk = pd.DataFrame({\"asset\": assets, \"allocation\": x_minimum_risk.value})\n",
        "min_risk.to_csv(\"minimum_risk.tsv\", sep=\"\\t\", index=False)"
      ]
    },
    {
      "cell_type": "markdown",
      "metadata": {
        "id": "P5gy_XETtsoi"
      },
      "source": [
        "Submit \"minimum_risk.tsv\" in Gradescope."
      ]
    },
    {
      "cell_type": "markdown",
      "metadata": {
        "id": "mzyJGWDvWhva"
      },
      "source": [
        "## Part 7: Build Efficient Frontier Portfolios\n",
        "\n",
        "Compute 101 portfolios along the mean-variance efficient frontier with evenly spaced estimated returns.\n",
        "The first portfolio should be the minimum risk portfolio from part 4, and the last portfolio should be the maximum return portfolio from part 3.\n",
        "The estimated return of each portfolio should be higher than the previous by one percent of the difference between the first and last portfolios.\n",
        "That is, the estimated return of the portfolios should be similar to `np.linspace(min_risk_return, max_return, 101)`.\n"
      ]
    },
    {
      "cell_type": "code",
      "execution_count": 73,
      "metadata": {
        "id": "XaR6mKwvxZ4W"
      },
      "outputs": [],
      "source": [
        "# YOUR CHANGES HERE\n",
        "\n",
        "ef_variances = []\n",
        "ef_returns = []\n",
        "ef_portfolios = []"
      ]
    },
    {
      "cell_type": "markdown",
      "metadata": {
        "id": "8e3WwTJvsDzh"
      },
      "source": [
        "Save the portfolios in a TSV file named \"efficient_frontier.tsv\".\n",
        "The header row should have columns \"index\", \"return\", \"risk\", and all the asset tickers.\n",
        "Each data row should have the portfolio index (0-100), the estimated return of the portfolio, the estimated standard deviation (not variance) of the portfolio, and all the asset allocations (which should sum to one)."
      ]
    },
    {
      "cell_type": "code",
      "execution_count": 74,
      "metadata": {
        "id": "e9DKadyNvniT"
      },
      "outputs": [],
      "source": [
        "# YOUR CHANGES HERE\n",
        "\n",
        "estimated_return_minimum_risk = x_minimum_risk.value @ mu\n",
        "estimated_return_maximum_return = mu.max()"
      ]
    },
    {
      "cell_type": "code",
      "execution_count": 75,
      "metadata": {},
      "outputs": [],
      "source": [
        "for r in np.linspace(estimated_return_minimum_risk, estimated_return_maximum_return, 101):\n",
        "    x_r = cp.Variable(n)\n",
        "    \n",
        "    prob_r = cp.Problem(cp.Minimize(x_r.T @ cov_matrix.values @ x_r),\n",
        "                        [0 <= x_r, cp.sum(x_r) == 1, mu.reshape(1,-1) @ x_r == r])\n",
        "    \n",
        "    ef_variances.append(prob_r.solve())\n",
        "    ef_returns.append(r)\n",
        "    ef_portfolios.append(x_r.value)\n",
        "\n",
        "ef_portfolios = np.array(ef_portfolios)"
      ]
    },
    {
      "cell_type": "code",
      "execution_count": 76,
      "metadata": {},
      "outputs": [
        {
          "data": {
            "image/png": "[encoded data removed]",
            "text/plain": [
              "<Figure size 640x480 with 1 Axes>"
            ]
          },
          "metadata": {},
          "output_type": "display_data"
        }
      ],
      "source": [
        "import matplotlib.pyplot as plt\n",
        "\n",
        "plt.plot(np.sqrt(returns.drop(columns='date').var()), means, label = \"assets\", linestyle=\"None\", marker=\"o\")\n",
        "plt.plot(np.sqrt(ef_variances), ef_returns, label = \"efficient frontier\", linestyle=\"--\")\n",
        "\n",
        "plt.legend()\n",
        "plt.xlabel(\"Standard Deviation\")\n",
        "plt.ylabel(\"Expected Return\")\n",
        "plt.title(\"Mean-Variance Effeicient Frontier and Individual Assets\")\n",
        "plt.xlim(0)\n",
        "plt.ylim(0)\n",
        "\n",
        "plt.show()"
      ]
    },
    {
      "cell_type": "code",
      "execution_count": 77,
      "metadata": {},
      "outputs": [],
      "source": [
        "ef_variances = np.array(ef_variances)\n",
        "ef_returns = np.array(ef_returns)\n",
        "ef_portfolios = np.array(ef_portfolios)\n",
        "\n",
        "ef_risks = np.sqrt(ef_variances)\n",
        "\n",
        "tickers = cov_matrix.columns.tolist()\n",
        "rows = []\n",
        "for i, (ret, risk, w) in enumerate(zip(ef_returns, ef_risks, ef_portfolios)):\n",
        "    rows.append([i, ret, risk] + list(w))\n",
        "\n",
        "cols = [\"index\", \"return\", \"risk\"] + tickers\n",
        "df = pd.DataFrame(rows, columns=cols)\n",
        "\n",
        "df.to_csv(\"efficient_frontier.tsv\", sep=\"\\t\", index=False)"
      ]
    },
    {
      "cell_type": "markdown",
      "metadata": {
        "id": "jiOa06rItvbs"
      },
      "source": [
        "Submit \"efficient_frontier.tsv\" in Gradescope."
      ]
    },
    {
      "cell_type": "markdown",
      "metadata": {
        "id": "LoW0XBXAzzR6"
      },
      "source": [
        "## Part 8: Check Maximum Return Portfolio Stability\n",
        "\n",
        "Check the stability of the maximum return portfolio by resampling the estimated risk/return model.\n",
        "\n",
        "Repeat 1000 times -\n",
        "1. Use `np.random.multivariate_normal` to generate 23 return samples using your previously estimated risks and returns.\n",
        "2. Estimate the return of each asset using that resampled return history.\n",
        "3. Check which asset had the highest return in those resampled estimates.\n",
        "\n",
        "This procedure is a reduced and simplified version of the Michaud resampled efficient frontier procedure that takes uncertainty in the risk model into account."
      ]
    },
    {
      "cell_type": "code",
      "execution_count": 78,
      "metadata": {
        "id": "Xfke5V57xYvT"
      },
      "outputs": [],
      "source": [
        "# YOUR CHANGES HERE\n",
        "\n",
        "cov = pd.read_csv(\"estimated_covariance.tsv\", sep=\"\\t\", index_col=0)\n",
        "n_obs = 23  \n",
        "n_trials = 1000\n",
        "\n",
        "winners = []\n",
        "for _ in range(n_trials):\n",
        "    simulated = np.random.multivariate_normal(mean=mu, cov=cov.loc[assets, assets].values, size=n_obs)\n",
        "\n",
        "    sample_means = simulated.mean(axis=0)\n",
        "\n",
        "    best_asset = assets[np.argmax(sample_means)]\n",
        "    winners.append(best_asset)\n",
        "\n",
        "counts = pd.Series(winners).value_counts().reindex(assets, fill_value=0)\n",
        "probs = counts / n_trials"
      ]
    },
    {
      "cell_type": "code",
      "execution_count": 81,
      "metadata": {},
      "outputs": [
        {
          "data": {
            "text/plain": [
              "['TSLA',\n",
              " 'TSLA',\n",
              " 'MU',\n",
              " 'TSLA',\n",
              " 'MU',\n",
              " 'MU',\n",
              " 'COST',\n",
              " 'AAPL',\n",
              " 'MU',\n",
              " 'TSLA',\n",
              " 'TSLA',\n",
              " 'MU',\n",
              " 'AXP',\n",
              " 'TSLA',\n",
              " 'COST',\n",
              " 'AXP',\n",
              " 'AXP',\n",
              " 'MU',\n",
              " 'MU',\n",
              " 'TSLA',\n",
              " 'TSLA',\n",
              " 'MU',\n",
              " 'MU',\n",
              " 'AXP',\n",
              " 'MU',\n",
              " 'AXP',\n",
              " 'MU',\n",
              " 'MU',\n",
              " 'AXP',\n",
              " 'TSLA',\n",
              " 'MU',\n",
              " 'COST',\n",
              " 'MU',\n",
              " 'MU',\n",
              " 'TSLA',\n",
              " 'MU',\n",
              " 'AXP',\n",
              " 'TSLA',\n",
              " 'AXP',\n",
              " 'COST',\n",
              " 'MU',\n",
              " 'TSLA',\n",
              " 'MU',\n",
              " 'MU',\n",
              " 'COST',\n",
              " 'MU',\n",
              " 'AXP',\n",
              " 'COST',\n",
              " 'COST',\n",
              " 'TSLA',\n",
              " 'MU',\n",
              " 'AXP',\n",
              " 'AXP',\n",
              " 'TSLA',\n",
              " 'TSLA',\n",
              " 'TSLA',\n",
              " 'MU',\n",
              " 'COST',\n",
              " 'AXP',\n",
              " 'TSLA',\n",
              " 'AAPL',\n",
              " 'AXP',\n",
              " 'AXP',\n",
              " 'AXP',\n",
              " 'AXP',\n",
              " 'MU',\n",
              " 'MU',\n",
              " 'AXP',\n",
              " 'AXP',\n",
              " 'AXP',\n",
              " 'AXP',\n",
              " 'AXP',\n",
              " 'MU',\n",
              " 'TSLA',\n",
              " 'AXP',\n",
              " 'TSLA',\n",
              " 'TSLA',\n",
              " 'COST',\n",
              " 'AXP',\n",
              " 'COST',\n",
              " 'AXP',\n",
              " 'TSLA',\n",
              " 'TSLA',\n",
              " 'MU',\n",
              " 'COST',\n",
              " 'TSLA',\n",
              " 'MU',\n",
              " 'COST',\n",
              " 'AXP',\n",
              " 'AXP',\n",
              " 'AXP',\n",
              " 'MU',\n",
              " 'AXP',\n",
              " 'TSLA',\n",
              " 'MU',\n",
              " 'TSLA',\n",
              " 'COST',\n",
              " 'TSLA',\n",
              " 'AXP',\n",
              " 'TSLA',\n",
              " 'AXP',\n",
              " 'TSLA',\n",
              " 'TSLA',\n",
              " 'COST',\n",
              " 'AXP',\n",
              " 'AXP',\n",
              " 'MU',\n",
              " 'MU',\n",
              " 'COST',\n",
              " 'MU',\n",
              " 'COST',\n",
              " 'COST',\n",
              " 'MU',\n",
              " 'COST',\n",
              " 'MU',\n",
              " 'AXP',\n",
              " 'TSLA',\n",
              " 'TSLA',\n",
              " 'MU',\n",
              " 'COST',\n",
              " 'AXP',\n",
              " 'COST',\n",
              " 'AXP',\n",
              " 'AXP',\n",
              " 'AXP',\n",
              " 'AXP',\n",
              " 'AXP',\n",
              " 'AXP',\n",
              " 'AXP',\n",
              " 'MU',\n",
              " 'TSLA',\n",
              " 'AXP',\n",
              " 'TSLA',\n",
              " 'TSLA',\n",
              " 'TSLA',\n",
              " 'TSLA',\n",
              " 'TSLA',\n",
              " 'MU',\n",
              " 'MU',\n",
              " 'AXP',\n",
              " 'MU',\n",
              " 'MU',\n",
              " 'MU',\n",
              " 'MU',\n",
              " 'MU',\n",
              " 'AXP',\n",
              " 'MU',\n",
              " 'MU',\n",
              " 'TSLA',\n",
              " 'TSLA',\n",
              " 'MU',\n",
              " 'AXP',\n",
              " 'TSLA',\n",
              " 'MU',\n",
              " 'TSLA',\n",
              " 'AXP',\n",
              " 'AXP',\n",
              " 'MU',\n",
              " 'TSLA',\n",
              " 'TSLA',\n",
              " 'MU',\n",
              " 'TSLA',\n",
              " 'TSLA',\n",
              " 'MU',\n",
              " 'MU',\n",
              " 'AXP',\n",
              " 'MU',\n",
              " 'TSLA',\n",
              " 'TSLA',\n",
              " 'TSLA',\n",
              " 'AXP',\n",
              " 'AXP',\n",
              " 'MU',\n",
              " 'TSLA',\n",
              " 'AXP',\n",
              " 'MU',\n",
              " 'TSLA',\n",
              " 'AXP',\n",
              " 'MU',\n",
              " 'TSLA',\n",
              " 'TSLA',\n",
              " 'AXP',\n",
              " 'AXP',\n",
              " 'TSLA',\n",
              " 'MU',\n",
              " 'AXP',\n",
              " 'MU',\n",
              " 'AXP',\n",
              " 'MU',\n",
              " 'AXP',\n",
              " 'TSLA',\n",
              " 'TSLA',\n",
              " 'TSLA',\n",
              " 'MU',\n",
              " 'MU',\n",
              " 'MU',\n",
              " 'TSLA',\n",
              " 'TSLA',\n",
              " 'AXP',\n",
              " 'COST',\n",
              " 'AAPL',\n",
              " 'TSLA',\n",
              " 'TSLA',\n",
              " 'MU',\n",
              " 'MU',\n",
              " 'AXP',\n",
              " 'COST',\n",
              " 'AXP',\n",
              " 'MU',\n",
              " 'TSLA',\n",
              " 'MU',\n",
              " 'MU',\n",
              " 'TSLA',\n",
              " 'TSLA',\n",
              " 'AXP',\n",
              " 'MU',\n",
              " 'MU',\n",
              " 'TSLA',\n",
              " 'MU',\n",
              " 'AXP',\n",
              " 'AXP',\n",
              " 'AXP',\n",
              " 'MU',\n",
              " 'AXP',\n",
              " 'MU',\n",
              " 'TSLA',\n",
              " 'AXP',\n",
              " 'MU',\n",
              " 'AXP',\n",
              " 'AXP',\n",
              " 'TSLA',\n",
              " 'AXP',\n",
              " 'TSLA',\n",
              " 'AXP',\n",
              " 'AXP',\n",
              " 'COST',\n",
              " 'AXP',\n",
              " 'MU',\n",
              " 'COST',\n",
              " 'MU',\n",
              " 'AXP',\n",
              " 'AXP',\n",
              " 'MU',\n",
              " 'TSLA',\n",
              " 'AXP',\n",
              " 'AXP',\n",
              " 'TSLA',\n",
              " 'TSLA',\n",
              " 'AXP',\n",
              " 'MU',\n",
              " 'MU',\n",
              " 'MU',\n",
              " 'MU',\n",
              " 'AXP',\n",
              " 'TSLA',\n",
              " 'TSLA',\n",
              " 'TSLA',\n",
              " 'AXP',\n",
              " 'AXP',\n",
              " 'COST',\n",
              " 'AXP',\n",
              " 'TSLA',\n",
              " 'AXP',\n",
              " 'TSLA',\n",
              " 'AXP',\n",
              " 'MU',\n",
              " 'MU',\n",
              " 'MU',\n",
              " 'AXP',\n",
              " 'TSLA',\n",
              " 'TSLA',\n",
              " 'TSLA',\n",
              " 'TSLA',\n",
              " 'TSLA',\n",
              " 'MU',\n",
              " 'MU',\n",
              " 'TSLA',\n",
              " 'COST',\n",
              " 'MU',\n",
              " 'AXP',\n",
              " 'AXP',\n",
              " 'TSLA',\n",
              " 'TSLA',\n",
              " 'TSLA',\n",
              " 'MU',\n",
              " 'AXP',\n",
              " 'TSLA',\n",
              " 'AXP',\n",
              " 'AXP',\n",
              " 'COST',\n",
              " 'MU',\n",
              " 'AXP',\n",
              " 'TSLA',\n",
              " 'COST',\n",
              " 'MU',\n",
              " 'AXP',\n",
              " 'MU',\n",
              " 'COST',\n",
              " 'TSLA',\n",
              " 'COST',\n",
              " 'MU',\n",
              " 'TSLA',\n",
              " 'MU',\n",
              " 'AXP',\n",
              " 'AXP',\n",
              " 'MU',\n",
              " 'MU',\n",
              " 'MU',\n",
              " 'MU',\n",
              " 'MU',\n",
              " 'TSLA',\n",
              " 'TSLA',\n",
              " 'TSLA',\n",
              " 'TSLA',\n",
              " 'MU',\n",
              " 'TSLA',\n",
              " 'AXP',\n",
              " 'MU',\n",
              " 'MU',\n",
              " 'TSLA',\n",
              " 'TSLA',\n",
              " 'AXP',\n",
              " 'AXP',\n",
              " 'AXP',\n",
              " 'MU',\n",
              " 'MU',\n",
              " 'MU',\n",
              " 'AXP',\n",
              " 'TSLA',\n",
              " 'AXP',\n",
              " 'AXP',\n",
              " 'TSLA',\n",
              " 'MU',\n",
              " 'AXP',\n",
              " 'MU',\n",
              " 'AXP',\n",
              " 'COST',\n",
              " 'TSLA',\n",
              " 'COST',\n",
              " 'AXP',\n",
              " 'MU',\n",
              " 'MU',\n",
              " 'MU',\n",
              " 'TSLA',\n",
              " 'TSLA',\n",
              " 'AAPL',\n",
              " 'TSLA',\n",
              " 'AXP',\n",
              " 'MU',\n",
              " 'MU',\n",
              " 'MU',\n",
              " 'MU',\n",
              " 'COST',\n",
              " 'MU',\n",
              " 'MU',\n",
              " 'COST',\n",
              " 'AXP',\n",
              " 'AXP',\n",
              " 'MU',\n",
              " 'TSLA',\n",
              " 'TSLA',\n",
              " 'AXP',\n",
              " 'MU',\n",
              " 'TSLA',\n",
              " 'AXP',\n",
              " 'TSLA',\n",
              " 'TSLA',\n",
              " 'COST',\n",
              " 'MU',\n",
              " 'TSLA',\n",
              " 'MU',\n",
              " 'COST',\n",
              " 'TSLA',\n",
              " 'AXP',\n",
              " 'TSLA',\n",
              " 'TSLA',\n",
              " 'AXP',\n",
              " 'AXP',\n",
              " 'COST',\n",
              " 'MU',\n",
              " 'AXP',\n",
              " 'AXP',\n",
              " 'TSLA',\n",
              " 'TSLA',\n",
              " 'TSLA',\n",
              " 'MU',\n",
              " 'MU',\n",
              " 'COST',\n",
              " 'TSLA',\n",
              " 'MU',\n",
              " 'AXP',\n",
              " 'TSLA',\n",
              " 'MU',\n",
              " 'MU',\n",
              " 'TSLA',\n",
              " 'TSLA',\n",
              " 'MU',\n",
              " 'TSLA',\n",
              " 'COST',\n",
              " 'COST',\n",
              " 'TSLA',\n",
              " 'TSLA',\n",
              " 'COST',\n",
              " 'MU',\n",
              " 'MU',\n",
              " 'MU',\n",
              " 'MU',\n",
              " 'COST',\n",
              " 'MU',\n",
              " 'MU',\n",
              " 'MU',\n",
              " 'AXP',\n",
              " 'COST',\n",
              " 'MU',\n",
              " 'AXP',\n",
              " 'TSLA',\n",
              " 'AXP',\n",
              " 'AAPL',\n",
              " 'MU',\n",
              " 'AXP',\n",
              " 'AXP',\n",
              " 'AXP',\n",
              " 'TSLA',\n",
              " 'TSLA',\n",
              " 'AXP',\n",
              " 'AXP',\n",
              " 'COST',\n",
              " 'MU',\n",
              " 'TSLA',\n",
              " 'MU',\n",
              " 'AXP',\n",
              " 'TSLA',\n",
              " 'AXP',\n",
              " 'MU',\n",
              " 'COST',\n",
              " 'AXP',\n",
              " 'AXP',\n",
              " 'MU',\n",
              " 'TSLA',\n",
              " 'TSLA',\n",
              " 'MU',\n",
              " 'MU',\n",
              " 'TSLA',\n",
              " 'MU',\n",
              " 'TSLA',\n",
              " 'MU',\n",
              " 'TSLA',\n",
              " 'MU',\n",
              " 'MU',\n",
              " 'TSLA',\n",
              " 'AXP',\n",
              " 'TSLA',\n",
              " 'TSLA',\n",
              " 'MU',\n",
              " 'AXP',\n",
              " 'COST',\n",
              " 'MU',\n",
              " 'COST',\n",
              " 'AAPL',\n",
              " 'MU',\n",
              " 'TSLA',\n",
              " 'AXP',\n",
              " 'TSLA',\n",
              " 'AXP',\n",
              " 'MU',\n",
              " 'MU',\n",
              " 'MU',\n",
              " 'MU',\n",
              " 'MU',\n",
              " 'TSLA',\n",
              " 'AXP',\n",
              " 'MU',\n",
              " 'AXP',\n",
              " 'MU',\n",
              " 'AXP',\n",
              " 'MU',\n",
              " 'AXP',\n",
              " 'MU',\n",
              " 'TSLA',\n",
              " 'AXP',\n",
              " 'TSLA',\n",
              " 'TSLA',\n",
              " 'AXP',\n",
              " 'TSLA',\n",
              " 'AXP',\n",
              " 'MU',\n",
              " 'MU',\n",
              " 'AXP',\n",
              " 'AXP',\n",
              " 'MU',\n",
              " 'AXP',\n",
              " 'AXP',\n",
              " 'AXP',\n",
              " 'TSLA',\n",
              " 'MU',\n",
              " 'TSLA',\n",
              " 'TSLA',\n",
              " 'MU',\n",
              " 'TSLA',\n",
              " 'TSLA',\n",
              " 'COST',\n",
              " 'COST',\n",
              " 'TSLA',\n",
              " 'MU',\n",
              " 'MU',\n",
              " 'MU',\n",
              " 'TSLA',\n",
              " 'MU',\n",
              " 'AXP',\n",
              " 'TSLA',\n",
              " 'TSLA',\n",
              " 'TSLA',\n",
              " 'MU',\n",
              " 'MU',\n",
              " 'TSLA',\n",
              " 'TSLA',\n",
              " 'MU',\n",
              " 'MU',\n",
              " 'MU',\n",
              " 'TSLA',\n",
              " 'AAPL',\n",
              " 'AXP',\n",
              " 'MU',\n",
              " 'AXP',\n",
              " 'COST',\n",
              " 'TSLA',\n",
              " 'AXP',\n",
              " 'AXP',\n",
              " 'AAPL',\n",
              " 'TSLA',\n",
              " 'AAPL',\n",
              " 'AXP',\n",
              " 'MU',\n",
              " 'MU',\n",
              " 'COST',\n",
              " 'TSLA',\n",
              " 'TSLA',\n",
              " 'TSLA',\n",
              " 'AXP',\n",
              " 'MU',\n",
              " 'AXP',\n",
              " 'MU',\n",
              " 'MU',\n",
              " 'COST',\n",
              " 'AXP',\n",
              " 'AXP',\n",
              " 'MU',\n",
              " 'MU',\n",
              " 'MU',\n",
              " 'MU',\n",
              " 'TSLA',\n",
              " 'TSLA',\n",
              " 'AXP',\n",
              " 'AXP',\n",
              " 'AAPL',\n",
              " 'COST',\n",
              " 'AXP',\n",
              " 'AXP',\n",
              " 'TSLA',\n",
              " 'COST',\n",
              " 'TSLA',\n",
              " 'TSLA',\n",
              " 'AXP',\n",
              " 'TSLA',\n",
              " 'TSLA',\n",
              " 'AXP',\n",
              " 'AAPL',\n",
              " 'MU',\n",
              " 'MU',\n",
              " 'MU',\n",
              " 'MU',\n",
              " 'TSLA',\n",
              " 'AXP',\n",
              " 'TSLA',\n",
              " 'COST',\n",
              " 'AXP',\n",
              " 'TSLA',\n",
              " 'COST',\n",
              " 'TSLA',\n",
              " 'AXP',\n",
              " 'AAPL',\n",
              " 'TSLA',\n",
              " 'MU',\n",
              " 'AXP',\n",
              " 'TSLA',\n",
              " 'AXP',\n",
              " 'AXP',\n",
              " 'COST',\n",
              " 'AXP',\n",
              " 'AXP',\n",
              " 'TSLA',\n",
              " 'MU',\n",
              " 'AXP',\n",
              " 'TSLA',\n",
              " 'TSLA',\n",
              " 'MU',\n",
              " 'TSLA',\n",
              " 'AXP',\n",
              " 'COST',\n",
              " 'COST',\n",
              " 'AXP',\n",
              " 'TSLA',\n",
              " 'AXP',\n",
              " 'COST',\n",
              " 'TSLA',\n",
              " 'AXP',\n",
              " 'COST',\n",
              " 'TSLA',\n",
              " 'AXP',\n",
              " 'AAPL',\n",
              " 'TSLA',\n",
              " 'COST',\n",
              " 'MU',\n",
              " 'MU',\n",
              " 'TSLA',\n",
              " 'MU',\n",
              " 'MU',\n",
              " 'AXP',\n",
              " 'MU',\n",
              " 'AXP',\n",
              " 'MU',\n",
              " 'AXP',\n",
              " 'AXP',\n",
              " 'TSLA',\n",
              " 'MU',\n",
              " 'AAPL',\n",
              " 'AXP',\n",
              " 'AXP',\n",
              " 'COST',\n",
              " 'AXP',\n",
              " 'TSLA',\n",
              " 'TSLA',\n",
              " 'TSLA',\n",
              " 'MU',\n",
              " 'TSLA',\n",
              " 'TSLA',\n",
              " 'TSLA',\n",
              " 'AXP',\n",
              " 'TSLA',\n",
              " 'AXP',\n",
              " 'TSLA',\n",
              " 'MU',\n",
              " 'TSLA',\n",
              " 'AXP',\n",
              " 'AXP',\n",
              " 'COST',\n",
              " 'AXP',\n",
              " 'AXP',\n",
              " 'MU',\n",
              " 'AXP',\n",
              " 'COST',\n",
              " 'COST',\n",
              " 'TSLA',\n",
              " 'MU',\n",
              " 'MU',\n",
              " 'MU',\n",
              " 'COST',\n",
              " 'AXP',\n",
              " 'TSLA',\n",
              " 'COST',\n",
              " 'AXP',\n",
              " 'TSLA',\n",
              " 'MU',\n",
              " 'MU',\n",
              " 'MU',\n",
              " 'COST',\n",
              " 'AXP',\n",
              " 'COST',\n",
              " 'MU',\n",
              " 'AXP',\n",
              " 'MU',\n",
              " 'TSLA',\n",
              " 'MU',\n",
              " 'COST',\n",
              " 'AXP',\n",
              " 'TSLA',\n",
              " 'AAPL',\n",
              " 'TSLA',\n",
              " 'MU',\n",
              " 'TSLA',\n",
              " 'MU',\n",
              " 'COST',\n",
              " 'MU',\n",
              " 'AXP',\n",
              " 'MU',\n",
              " 'TSLA',\n",
              " 'AXP',\n",
              " 'MU',\n",
              " 'MU',\n",
              " 'AAPL',\n",
              " 'COST',\n",
              " 'MU',\n",
              " 'AXP',\n",
              " 'MU',\n",
              " 'TSLA',\n",
              " 'TSLA',\n",
              " 'MU',\n",
              " 'AXP',\n",
              " 'AXP',\n",
              " 'AXP',\n",
              " 'MU',\n",
              " 'MU',\n",
              " 'MU',\n",
              " 'COST',\n",
              " 'AXP',\n",
              " 'TSLA',\n",
              " 'AXP',\n",
              " 'TSLA',\n",
              " 'TSLA',\n",
              " 'TSLA',\n",
              " 'TSLA',\n",
              " 'MU',\n",
              " 'AXP',\n",
              " 'TSLA',\n",
              " 'MU',\n",
              " 'MU',\n",
              " 'TSLA',\n",
              " 'MU',\n",
              " 'AXP',\n",
              " 'AXP',\n",
              " 'COST',\n",
              " 'MU',\n",
              " 'TSLA',\n",
              " 'MU',\n",
              " 'MU',\n",
              " 'TSLA',\n",
              " 'MU',\n",
              " 'AXP',\n",
              " 'AXP',\n",
              " 'AXP',\n",
              " 'COST',\n",
              " 'MU',\n",
              " 'MU',\n",
              " 'MU',\n",
              " 'COST',\n",
              " 'MU',\n",
              " 'TSLA',\n",
              " 'COST',\n",
              " 'AXP',\n",
              " 'TSLA',\n",
              " 'COST',\n",
              " 'MU',\n",
              " 'TSLA',\n",
              " 'AXP',\n",
              " 'MU',\n",
              " 'TSLA',\n",
              " 'MU',\n",
              " 'TSLA',\n",
              " 'AAPL',\n",
              " 'TSLA',\n",
              " 'AXP',\n",
              " 'TSLA',\n",
              " 'MU',\n",
              " 'COST',\n",
              " 'COST',\n",
              " 'AXP',\n",
              " 'AXP',\n",
              " 'AXP',\n",
              " 'MU',\n",
              " 'TSLA',\n",
              " 'TSLA',\n",
              " 'AXP',\n",
              " 'MU',\n",
              " 'MU',\n",
              " 'AXP',\n",
              " 'COST',\n",
              " 'MU',\n",
              " 'TSLA',\n",
              " 'MU',\n",
              " 'TSLA',\n",
              " 'COST',\n",
              " 'AXP',\n",
              " 'TSLA',\n",
              " 'MU',\n",
              " 'TSLA',\n",
              " 'TSLA',\n",
              " 'AXP',\n",
              " 'COST',\n",
              " 'TSLA',\n",
              " 'MU',\n",
              " 'MU',\n",
              " 'MU',\n",
              " 'AXP',\n",
              " 'MU',\n",
              " 'MU',\n",
              " 'AXP',\n",
              " 'AXP',\n",
              " 'COST',\n",
              " 'AXP',\n",
              " 'AXP',\n",
              " 'MU',\n",
              " 'MU',\n",
              " 'MU',\n",
              " 'TSLA',\n",
              " 'MU',\n",
              " 'AXP',\n",
              " 'TSLA',\n",
              " 'MU',\n",
              " 'COST',\n",
              " 'MU',\n",
              " 'MU',\n",
              " 'MU',\n",
              " 'MU',\n",
              " 'AXP',\n",
              " 'MU',\n",
              " 'TSLA',\n",
              " 'MU',\n",
              " 'MU',\n",
              " 'AXP',\n",
              " 'TSLA',\n",
              " 'MU',\n",
              " 'TSLA',\n",
              " 'COST',\n",
              " 'MU',\n",
              " 'TSLA',\n",
              " 'COST',\n",
              " 'MU',\n",
              " 'MU',\n",
              " 'AXP',\n",
              " 'COST',\n",
              " 'MU',\n",
              " 'TSLA',\n",
              " 'COST',\n",
              " 'MU',\n",
              " 'TSLA',\n",
              " 'TSLA',\n",
              " 'MU',\n",
              " 'MU',\n",
              " 'AXP',\n",
              " 'MU',\n",
              " 'AXP',\n",
              " 'AXP',\n",
              " 'MU',\n",
              " 'MU',\n",
              " 'AXP',\n",
              " 'AXP',\n",
              " 'AXP',\n",
              " 'AXP',\n",
              " 'TSLA',\n",
              " 'MU',\n",
              " 'AXP',\n",
              " 'MU',\n",
              " 'MU',\n",
              " 'MU',\n",
              " 'AXP',\n",
              " 'MU',\n",
              " 'TSLA',\n",
              " 'AXP',\n",
              " 'TSLA',\n",
              " 'TSLA',\n",
              " 'TSLA',\n",
              " 'MU',\n",
              " 'TSLA',\n",
              " 'AXP',\n",
              " 'TSLA',\n",
              " 'MU',\n",
              " 'MU',\n",
              " 'MU',\n",
              " 'MU',\n",
              " 'TSLA',\n",
              " 'MU',\n",
              " 'AXP',\n",
              " 'MU',\n",
              " 'TSLA',\n",
              " 'AXP',\n",
              " 'TSLA',\n",
              " 'TSLA',\n",
              " 'AXP',\n",
              " 'TSLA',\n",
              " 'AAPL',\n",
              " 'COST',\n",
              " 'AXP',\n",
              " 'AXP',\n",
              " 'MU',\n",
              " 'COST',\n",
              " 'TSLA',\n",
              " 'TSLA',\n",
              " 'MU',\n",
              " 'TSLA',\n",
              " 'MU',\n",
              " 'AXP',\n",
              " 'TSLA',\n",
              " 'COST',\n",
              " 'TSLA',\n",
              " 'AXP',\n",
              " 'AAPL',\n",
              " 'AXP',\n",
              " 'AXP',\n",
              " 'TSLA',\n",
              " 'MU',\n",
              " 'AXP',\n",
              " 'MU',\n",
              " 'TSLA',\n",
              " 'AXP',\n",
              " 'MU',\n",
              " 'TSLA',\n",
              " 'TSLA',\n",
              " 'AAPL',\n",
              " 'COST',\n",
              " 'AXP',\n",
              " 'TSLA',\n",
              " 'COST',\n",
              " 'AAPL',\n",
              " 'AXP',\n",
              " 'AXP',\n",
              " 'TSLA',\n",
              " 'MU',\n",
              " 'MU',\n",
              " 'AXP',\n",
              " 'TSLA',\n",
              " 'COST',\n",
              " 'TSLA',\n",
              " 'AXP',\n",
              " 'AXP',\n",
              " 'MU',\n",
              " 'AXP',\n",
              " 'AXP',\n",
              " 'MU',\n",
              " 'AAPL',\n",
              " 'MU',\n",
              " 'MU',\n",
              " 'MU',\n",
              " 'MU',\n",
              " 'MU',\n",
              " 'COST',\n",
              " 'AXP',\n",
              " 'AXP',\n",
              " 'COST',\n",
              " 'MU',\n",
              " 'TSLA',\n",
              " 'MU',\n",
              " 'COST',\n",
              " 'TSLA',\n",
              " 'MU',\n",
              " 'AXP',\n",
              " 'AXP',\n",
              " 'AXP',\n",
              " 'TSLA',\n",
              " 'MU',\n",
              " 'MU',\n",
              " 'TSLA',\n",
              " 'AXP',\n",
              " 'AXP',\n",
              " 'MU',\n",
              " 'TSLA',\n",
              " 'TSLA',\n",
              " 'TSLA',\n",
              " 'COST',\n",
              " 'COST',\n",
              " 'AXP',\n",
              " 'TSLA',\n",
              " 'MU',\n",
              " 'AXP',\n",
              " 'AXP',\n",
              " 'TSLA',\n",
              " 'AXP',\n",
              " 'MU',\n",
              " 'MU',\n",
              " 'TSLA',\n",
              " 'MU',\n",
              " 'AXP',\n",
              " 'COST',\n",
              " 'AXP',\n",
              " 'AXP',\n",
              " 'MU',\n",
              " 'AXP',\n",
              " 'TSLA',\n",
              " 'MU',\n",
              " 'COST',\n",
              " 'MU',\n",
              " 'MU',\n",
              " 'MU',\n",
              " 'TSLA',\n",
              " 'TSLA',\n",
              " 'AXP',\n",
              " 'TSLA',\n",
              " 'AXP',\n",
              " 'MU',\n",
              " 'TSLA',\n",
              " 'AXP',\n",
              " 'TSLA',\n",
              " 'AXP',\n",
              " 'MU',\n",
              " 'TSLA',\n",
              " 'MU',\n",
              " 'COST',\n",
              " 'MU',\n",
              " 'COST',\n",
              " 'MU',\n",
              " 'AXP',\n",
              " 'TSLA',\n",
              " 'COST',\n",
              " 'MU',\n",
              " 'AXP',\n",
              " 'TSLA',\n",
              " 'MU',\n",
              " 'COST',\n",
              " 'AXP',\n",
              " 'MU',\n",
              " 'TSLA']"
            ]
          },
          "execution_count": 81,
          "metadata": {},
          "output_type": "execute_result"
        }
      ],
      "source": [
        "winners"
      ]
    },
    {
      "cell_type": "markdown",
      "metadata": {
        "id": "fes_ScDyz0jp"
      },
      "source": [
        "Save a file \"max_return_probabilities.tsv\" with the distribution of highest return assets.\n",
        "The header row should have columns \"asset\" and \"probability\".\n",
        "There should be a data row for each asset and its sample probability of having the highest return based on those 1000 resampled estimates.\n"
      ]
    },
    {
      "cell_type": "code",
      "execution_count": 82,
      "metadata": {
        "id": "ZAjr15ASvj1S"
      },
      "outputs": [],
      "source": [
        "# YOUR CHANGES HERE\n",
        "\n",
        "df = pd.DataFrame({\"asset\": probs.index, \"probability\": probs.values})\n",
        "df.to_csv(\"max_return_probabilities.tsv\", sep=\"\\t\", index=False)"
      ]
    },
    {
      "cell_type": "markdown",
      "metadata": {
        "id": "2Xd34FQ6txoj"
      },
      "source": [
        "Submit \"max_return_probabilities.tsv\" in Gradescope."
      ]
    },
    {
      "cell_type": "markdown",
      "metadata": {
        "id": "SYbJ21qUYvL_"
      },
      "source": [
        "## Part 9: Acknowledgments\n",
        "\n",
        "Make a file \"acknowledgments.txt\" documenting any outside sources or help on this project.\n",
        "If you discussed this assignment with anyone, please acknowledge them here.\n",
        "If you used any libraries not mentioned in this module's content, please list them with a brief explanation what you used them for.\n",
        "If you used any generative AI tools, please add links to your transcripts below, and any other information that you feel is necessary to comply with the generative AI policy.\n",
        "If no acknowledgements are appropriate, just write none in the file.\n"
      ]
    },
    {
      "cell_type": "markdown",
      "metadata": {
        "id": "H3oWYYHlt42V"
      },
      "source": [
        "Submit \"acknowledgements.txt\" in Gradescope."
      ]
    },
    {
      "cell_type": "markdown",
      "metadata": {
        "id": "b8FWiTjvwscA"
      },
      "source": [
        "## Part 10: Code\n",
        "\n",
        "Please submit a Jupyter notebook that can reproduce all your calculations and recreate the previously submitted files.\n",
        "You do not need to provide code for data collection if you did that by manually."
      ]
    },
    {
      "cell_type": "markdown",
      "metadata": {
        "id": "HDEYI-K8vcUW"
      },
      "source": [
        "Submit \"project.ipynb\" in Gradescope."
      ]
    }
  ],
  "metadata": {
    "colab": {
      "toc_visible": false
    },
    "kernelspec": {
      "display_name": "Python 3",
      "name": "python3"
    },
    "language_info": {
      "codemirror_mode": {
        "name": "ipython",
        "version": 3
      },
      "file_extension": ".py",
      "mimetype": "text/x-python",
      "name": "python",
      "nbconvert_exporter": "python",
      "pygments_lexer": "ipython3",
      "version": "3.12.1"
    }
  },
  "nbformat": 4,
  "nbformat_minor": 0
}
