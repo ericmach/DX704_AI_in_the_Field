{
  "cells": [
    {
      "cell_type": "markdown",
      "metadata": {
        "id": "Md413FzAvFD8"
      },
      "source": [
        "# DX 704 Week 6 Project\n",
        "\n",
        "This project will develop a treatment plan for a fictious illness \"Twizzleflu\".\n",
        "Twizzleflu is a mild illness caused by a virus.\n",
        "The main symptoms are a mild fever, fidgeting, and kicking the blankets off the bed or couch.\n",
        "Mild dehydration has also been reported in more severe cases.\n",
        "These symptoms typically last 1-2 weeks without treatment.\n",
        "Word on the internet says that Twizzleflu can be cured faster by drinking copious orange juice, but this has not been supported by evidence so far.\n",
        "You will be provided with a theoretical model of Twizzleflu modeled as a Markov decision process.\n",
        "Based on the model, you will compute optimal treatment plans to optimize different criteria, and compare patient discomfort with the different plans."
      ]
    },
    {
      "cell_type": "markdown",
      "metadata": {
        "id": "kzyRo9Tw5VcB"
      },
      "source": [
        "The full project description, a template notebook, and raw data are available on GitHub: [Project 6 Materials](https://github.com/bu-cds-dx704/dx704-project-06)."
      ]
    },
    {
      "cell_type": "markdown",
      "metadata": {
        "id": "tGYOZcnP6Vfu"
      },
      "source": [
        "We will model Twizzleflu as a Markov decision process.\n",
        "The model transition probabilities are provided in the file \"twizzleflu-transitions.tsv\" and the expected rewards are in \"twizzleflu-rewards.tsv\".\n",
        "The goal for Twizzleflu is to minimize the expected discomfort of the patient which is expressed as negative rewards in the file."
      ]
    },
    {
      "cell_type": "markdown",
      "metadata": {
        "id": "dlm2sUsades5"
      },
      "source": [
        "## Example Code\n",
        "\n",
        "You may find it helpful to refer to these GitHub repositories of Jupyter notebooks for example code.\n",
        "\n",
        "* https://github.com/bu-cds-omds/dx601-examples\n",
        "* https://github.com/bu-cds-omds/dx602-examples\n",
        "* https://github.com/bu-cds-omds/dx603-examples\n",
        "* https://github.com/bu-cds-omds/dx704-examples\n",
        "\n",
        "Any calculations demonstrated in code examples or videos may be found in these notebooks, and you are allowed to copy this example code in your homework answers."
      ]
    },
    {
      "cell_type": "markdown",
      "metadata": {
        "id": "C8oSLkMqvMFF"
      },
      "source": [
        "## Part 1: Evaluate a Do Nothing Plan\n",
        "\n",
        "One of the treatment actions is to do nothing.\n",
        "Calculate the expected discomfort (not rewards) of a policy that always does nothing."
      ]
    },
    {
      "cell_type": "markdown",
      "metadata": {
        "id": "cvG4mi_sAF9A"
      },
      "source": [
        "Hint: for this value calculation and later ones, use value iteration.\n",
        "The analytical solution has difficulties in practice when there is no discount factor."
      ]
    },
    {
      "cell_type": "code",
      "execution_count": 59,
      "metadata": {},
      "outputs": [
        {
          "data": {
            "text/plain": [
              "(       action      state  next_state  probability\n",
              " 0  do-nothing  exposed-1   exposed-2          0.8\n",
              " 1  do-nothing  exposed-1   recovered          0.2\n",
              " 2  do-nothing  exposed-2   exposed-3          0.8\n",
              " 3  do-nothing  exposed-2   recovered          0.2\n",
              " 4  do-nothing  exposed-3  symptoms-1          0.8,\n",
              "        action       state  reward\n",
              " 0  do-nothing   exposed-1     0.0\n",
              " 1  do-nothing   exposed-2     0.0\n",
              " 2  do-nothing   exposed-3     0.0\n",
              " 3  do-nothing  symptoms-1    -0.5\n",
              " 4  do-nothing  symptoms-2    -1.0)"
            ]
          },
          "execution_count": 59,
          "metadata": {},
          "output_type": "execute_result"
        }
      ],
      "source": [
        "import pandas as pd\n",
        "import numpy as np\n",
        "\n",
        "transitions = pd.read_csv(\"twizzleflu-transitions.tsv\", sep=\"\\t\")\n",
        "rewards = pd.read_csv(\"twizzleflu-rewards.tsv\", sep=\"\\t\")\n",
        "\n",
        "transitions.head(), rewards.head()"
      ]
    },
    {
      "cell_type": "code",
      "execution_count": 60,
      "metadata": {
        "id": "RVfnE8vf8yIl"
      },
      "outputs": [],
      "source": [
        "# YOUR CHANGES HERE\n",
        "\n",
        "action = \"do-nothing\"\n",
        "P = transitions[transitions[\"action\"] == action]\n",
        "R = rewards[rewards[\"action\"] == action].set_index(\"state\")[\"reward\"].to_dict()\n",
        "\n",
        "states = sorted(set(P[\"state\"]) | set(P[\"next_state\"]))\n",
        "\n",
        "n = len(states)\n",
        "P_matrix = np.zeros((n, n))\n",
        "\n",
        "for _, row in P.iterrows():\n",
        "    i = states.index(row[\"state\"])\n",
        "    j = states.index(row[\"next_state\"])\n",
        "    P_matrix[i, j] = row[\"probability\"]\n",
        "\n",
        "R_vec = np.array([R.get(s, 0.0) for s in states])\n",
        "\n",
        "gamma = 1\n",
        "V = np.zeros(n)\n",
        "threshold = 1e-8\n",
        "\n",
        "while True:\n",
        "    V_new = R_vec + gamma * P_matrix.dot(V)\n",
        "    if np.max(np.abs(V_new - V)) < threshold:\n",
        "        break\n",
        "    V = V_new\n",
        "\n",
        "discomfort = -V\n"
      ]
    },
    {
      "cell_type": "markdown",
      "metadata": {
        "id": "oji9gHEk8ytE"
      },
      "source": [
        "Save the expected discomfort by state to a file \"do-nothing-discomfort.tsv\" with columns state and expected_discomfort."
      ]
    },
    {
      "cell_type": "code",
      "execution_count": 61,
      "metadata": {
        "id": "ZLDuiAb99ACA"
      },
      "outputs": [
        {
          "data": {
            "text/html": [
              "<div>\n",
              "<style scoped>\n",
              "    .dataframe tbody tr th:only-of-type {\n",
              "        vertical-align: middle;\n",
              "    }\n",
              "\n",
              "    .dataframe tbody tr th {\n",
              "        vertical-align: top;\n",
              "    }\n",
              "\n",
              "    .dataframe thead th {\n",
              "        text-align: right;\n",
              "    }\n",
              "</style>\n",
              "<table border=\"1\" class=\"dataframe\">\n",
              "  <thead>\n",
              "    <tr style=\"text-align: right;\">\n",
              "      <th></th>\n",
              "      <th>state</th>\n",
              "      <th>expected_discomfort</th>\n",
              "    </tr>\n",
              "  </thead>\n",
              "  <tbody>\n",
              "    <tr>\n",
              "      <th>0</th>\n",
              "      <td>exposed-1</td>\n",
              "      <td>3.413333</td>\n",
              "    </tr>\n",
              "    <tr>\n",
              "      <th>1</th>\n",
              "      <td>exposed-2</td>\n",
              "      <td>4.266667</td>\n",
              "    </tr>\n",
              "    <tr>\n",
              "      <th>2</th>\n",
              "      <td>exposed-3</td>\n",
              "      <td>5.333333</td>\n",
              "    </tr>\n",
              "    <tr>\n",
              "      <th>3</th>\n",
              "      <td>recovered</td>\n",
              "      <td>-0.000000</td>\n",
              "    </tr>\n",
              "    <tr>\n",
              "      <th>4</th>\n",
              "      <td>symptoms-1</td>\n",
              "      <td>6.666667</td>\n",
              "    </tr>\n",
              "  </tbody>\n",
              "</table>\n",
              "</div>"
            ],
            "text/plain": [
              "        state  expected_discomfort\n",
              "0   exposed-1             3.413333\n",
              "1   exposed-2             4.266667\n",
              "2   exposed-3             5.333333\n",
              "3   recovered            -0.000000\n",
              "4  symptoms-1             6.666667"
            ]
          },
          "execution_count": 61,
          "metadata": {},
          "output_type": "execute_result"
        }
      ],
      "source": [
        "# YOUR CHANGES HERE\n",
        "\n",
        "result = pd.DataFrame({\"state\": states, \"expected_discomfort\": discomfort})\n",
        "result.to_csv(\"do-nothing-discomfort.tsv\", sep=\"\\t\", index=False)\n",
        "result.head()"
      ]
    },
    {
      "cell_type": "markdown",
      "metadata": {
        "id": "7-8sGANC-Dzs"
      },
      "source": [
        "Submit \"do-nothing-discomfort.tsv\" in Gradescope."
      ]
    },
    {
      "cell_type": "markdown",
      "metadata": {
        "id": "RJ1ietVp9BCS"
      },
      "source": [
        "## Part 2: Compute an Optimal Treatment Plan\n",
        "\n",
        "Compute an optimal treatment plan for Twizzleflu.\n",
        "It should minimize the expected discomfort (maximize the rewards)."
      ]
    },
    {
      "cell_type": "code",
      "execution_count": 62,
      "metadata": {
        "id": "6fdjt6qk9mZM"
      },
      "outputs": [],
      "source": [
        "# YOUR CHANGES HERE\n",
        "\n",
        "states = sorted(set(transitions[\"state\"]) | set(transitions[\"next_state\"]) | set(rewards[\"state\"]))\n",
        "actions = sorted(set(transitions[\"action\"]) | set(rewards[\"action\"]))\n",
        "\n",
        "P = {}\n",
        "for s in states:\n",
        "    for a in actions:\n",
        "        mask = (transitions[\"state\"] == s) & (transitions[\"action\"] == a)\n",
        "        if mask.any():\n",
        "            P[(s, a)] = list(zip(transitions.loc[mask, \"next_state\"], transitions.loc[mask, \"probability\"]))\n",
        "\n",
        "# Reward dictionary\n",
        "R = {(row[\"state\"], row[\"action\"]): row[\"reward\"] for _, row in rewards.iterrows()}\n",
        "\n",
        "\n",
        "gamma = 1\n",
        "V = {s: 0.0 for s in states}\n",
        "threshold = 1e-8\n",
        "\n",
        "def q_value(state, action, V_current):\n",
        "    r = R.get((state, action), 0.0)\n",
        "    future = 0.0\n",
        "    if (state, action) in P:\n",
        "        for s2, p in P[(state, action)]:\n",
        "            future += p * V_current[s2]\n",
        "    return r + gamma * future\n",
        "\n",
        "# Value iteration\n",
        "while True:\n",
        "    delta = 0.0\n",
        "    V_new = {}\n",
        "    for s in states:\n",
        "        q_vals = [q_value(s, a, V) for a in actions if (s, a) in R or (s, a) in P]\n",
        "        if q_vals:\n",
        "            V_new[s] = max(q_vals)\n",
        "        else:\n",
        "            V_new[s] = V[s]\n",
        "        delta = max(delta, abs(V_new[s] - V[s]))\n",
        "    V = V_new\n",
        "    if delta < threshold:\n",
        "        break\n",
        "\n",
        "# Optimal policy\n",
        "policy = []\n",
        "for s in states:\n",
        "    q_vals = [(a, q_value(s, a, V)) for a in actions if (s, a) in R or (s, a) in P]\n",
        "    if q_vals:\n",
        "        best_a = max(q_vals, key=lambda x: x[1])[0]\n",
        "    else:\n",
        "        best_a = \"none\"\n",
        "    policy.append({\"state\": s, \"action\": best_a})"
      ]
    },
    {
      "cell_type": "markdown",
      "metadata": {
        "id": "PRcByl1h9nBf"
      },
      "source": [
        "Save the optimal actions for each state to a file \"minimum-discomfort-actions.tsv\" with columns state and action."
      ]
    },
    {
      "cell_type": "code",
      "execution_count": 63,
      "metadata": {
        "id": "FhAajvpX9wru"
      },
      "outputs": [
        {
          "data": {
            "text/html": [
              "<div>\n",
              "<style scoped>\n",
              "    .dataframe tbody tr th:only-of-type {\n",
              "        vertical-align: middle;\n",
              "    }\n",
              "\n",
              "    .dataframe tbody tr th {\n",
              "        vertical-align: top;\n",
              "    }\n",
              "\n",
              "    .dataframe thead th {\n",
              "        text-align: right;\n",
              "    }\n",
              "</style>\n",
              "<table border=\"1\" class=\"dataframe\">\n",
              "  <thead>\n",
              "    <tr style=\"text-align: right;\">\n",
              "      <th></th>\n",
              "      <th>state</th>\n",
              "      <th>action</th>\n",
              "    </tr>\n",
              "  </thead>\n",
              "  <tbody>\n",
              "    <tr>\n",
              "      <th>0</th>\n",
              "      <td>exposed-1</td>\n",
              "      <td>sleep-8</td>\n",
              "    </tr>\n",
              "    <tr>\n",
              "      <th>1</th>\n",
              "      <td>exposed-2</td>\n",
              "      <td>sleep-8</td>\n",
              "    </tr>\n",
              "    <tr>\n",
              "      <th>2</th>\n",
              "      <td>exposed-3</td>\n",
              "      <td>sleep-8</td>\n",
              "    </tr>\n",
              "    <tr>\n",
              "      <th>3</th>\n",
              "      <td>recovered</td>\n",
              "      <td>do-nothing</td>\n",
              "    </tr>\n",
              "    <tr>\n",
              "      <th>4</th>\n",
              "      <td>symptoms-1</td>\n",
              "      <td>drink-oj</td>\n",
              "    </tr>\n",
              "  </tbody>\n",
              "</table>\n",
              "</div>"
            ],
            "text/plain": [
              "        state      action\n",
              "0   exposed-1     sleep-8\n",
              "1   exposed-2     sleep-8\n",
              "2   exposed-3     sleep-8\n",
              "3   recovered  do-nothing\n",
              "4  symptoms-1    drink-oj"
            ]
          },
          "execution_count": 63,
          "metadata": {},
          "output_type": "execute_result"
        }
      ],
      "source": [
        "# YOUR CHANGES HERE\n",
        "\n",
        "policy_df = pd.DataFrame(policy)\n",
        "policy_df.to_csv(\"minimum-discomfort-actions.tsv\", sep=\"\\t\", index=False)\n",
        "\n",
        "policy_df.head()"
      ]
    },
    {
      "cell_type": "markdown",
      "metadata": {
        "id": "sr00MlhL-Hdv"
      },
      "source": [
        "Submit \"minimum-discomfort-actions.tsv\" in Gradescope."
      ]
    },
    {
      "cell_type": "markdown",
      "metadata": {
        "id": "65p3NRTy9xjT"
      },
      "source": [
        "## Part 3: Expected Discomfort\n",
        "\n",
        "Using your previous optimal policy, compute the expected discomfort for each state."
      ]
    },
    {
      "cell_type": "code",
      "execution_count": 64,
      "metadata": {
        "id": "t5bHbK24-AhQ"
      },
      "outputs": [
        {
          "data": {
            "text/html": [
              "<div>\n",
              "<style scoped>\n",
              "    .dataframe tbody tr th:only-of-type {\n",
              "        vertical-align: middle;\n",
              "    }\n",
              "\n",
              "    .dataframe tbody tr th {\n",
              "        vertical-align: top;\n",
              "    }\n",
              "\n",
              "    .dataframe thead th {\n",
              "        text-align: right;\n",
              "    }\n",
              "</style>\n",
              "<table border=\"1\" class=\"dataframe\">\n",
              "  <thead>\n",
              "    <tr style=\"text-align: right;\">\n",
              "      <th></th>\n",
              "      <th>state</th>\n",
              "      <th>expected_discomfort</th>\n",
              "    </tr>\n",
              "  </thead>\n",
              "  <tbody>\n",
              "    <tr>\n",
              "      <th>0</th>\n",
              "      <td>exposed-1</td>\n",
              "      <td>0.75</td>\n",
              "    </tr>\n",
              "    <tr>\n",
              "      <th>1</th>\n",
              "      <td>exposed-2</td>\n",
              "      <td>1.50</td>\n",
              "    </tr>\n",
              "    <tr>\n",
              "      <th>2</th>\n",
              "      <td>exposed-3</td>\n",
              "      <td>3.00</td>\n",
              "    </tr>\n",
              "    <tr>\n",
              "      <th>3</th>\n",
              "      <td>recovered</td>\n",
              "      <td>-0.00</td>\n",
              "    </tr>\n",
              "    <tr>\n",
              "      <th>4</th>\n",
              "      <td>symptoms-1</td>\n",
              "      <td>6.00</td>\n",
              "    </tr>\n",
              "  </tbody>\n",
              "</table>\n",
              "</div>"
            ],
            "text/plain": [
              "        state  expected_discomfort\n",
              "0   exposed-1                 0.75\n",
              "1   exposed-2                 1.50\n",
              "2   exposed-3                 3.00\n",
              "3   recovered                -0.00\n",
              "4  symptoms-1                 6.00"
            ]
          },
          "execution_count": 64,
          "metadata": {},
          "output_type": "execute_result"
        }
      ],
      "source": [
        "# YOUR CHANGES HERE\n",
        "\n",
        "discomfort_df = pd.DataFrame({\"state\": states, \"expected_discomfort\": [-V[s] for s in states]})\n",
        "discomfort_df.to_csv(\"minimum-discomfort-values.tsv\", sep=\"\\t\", index=False)\n",
        "discomfort_df.head()"
      ]
    },
    {
      "cell_type": "markdown",
      "metadata": {
        "id": "Er6-0c0f-BGw"
      },
      "source": [
        "Save your results in a file \"minimum-discomfort-values.tsv\" with columns state and expected_discomfort."
      ]
    },
    {
      "cell_type": "markdown",
      "metadata": {
        "id": "83wnFZfk-UDd"
      },
      "source": [
        "Submit \"minimum-discomfort-values.tsv\" in Gradescope."
      ]
    },
    {
      "cell_type": "markdown",
      "metadata": {
        "id": "CKUTt9gx-XBF"
      },
      "source": [
        "## Part 4: Minimizing Twizzleflu Duration\n",
        "\n",
        "Modifiy the Markov decision process to minimize the days until the Twizzle flu is over.\n",
        "To do so, change the reward function to always be -1 if the current state corresponds to being sick and 0 if the current state corresponds to being better.\n",
        "To be clear, the action does not matter for this reward function.\n"
      ]
    },
    {
      "cell_type": "code",
      "execution_count": 65,
      "metadata": {
        "id": "HXrnkCh5-trk"
      },
      "outputs": [],
      "source": [
        "# YOUR CHANGES HERE\n",
        "\n",
        "state_action_pairs = transitions[[\"state\", \"action\"]].drop_duplicates()\n",
        "\n",
        "sick_states = [s for s in state_action_pairs[\"state\"].unique() if \"recovered\" not in s]\n",
        "\n",
        "# Assign -1 for sick states, 0 for recovered\n",
        "def assign_reward(state):\n",
        "    return -1.0 if state in sick_states else 0.0\n",
        "\n",
        "state_action_pairs[\"reward\"] = state_action_pairs[\"state\"].apply(assign_reward)"
      ]
    },
    {
      "cell_type": "markdown",
      "metadata": {
        "id": "je9Rt239-uRl"
      },
      "source": [
        "Save your new reward function in a file \"duration-rewards.tsv\" in the same format as \"twizzleflu-rewards.tsv\"."
      ]
    },
    {
      "cell_type": "code",
      "execution_count": 66,
      "metadata": {
        "id": "_cmV1ewj-4-Q"
      },
      "outputs": [
        {
          "data": {
            "text/html": [
              "<div>\n",
              "<style scoped>\n",
              "    .dataframe tbody tr th:only-of-type {\n",
              "        vertical-align: middle;\n",
              "    }\n",
              "\n",
              "    .dataframe tbody tr th {\n",
              "        vertical-align: top;\n",
              "    }\n",
              "\n",
              "    .dataframe thead th {\n",
              "        text-align: right;\n",
              "    }\n",
              "</style>\n",
              "<table border=\"1\" class=\"dataframe\">\n",
              "  <thead>\n",
              "    <tr style=\"text-align: right;\">\n",
              "      <th></th>\n",
              "      <th>state</th>\n",
              "      <th>action</th>\n",
              "      <th>reward</th>\n",
              "    </tr>\n",
              "  </thead>\n",
              "  <tbody>\n",
              "    <tr>\n",
              "      <th>0</th>\n",
              "      <td>exposed-1</td>\n",
              "      <td>do-nothing</td>\n",
              "      <td>-1.0</td>\n",
              "    </tr>\n",
              "    <tr>\n",
              "      <th>2</th>\n",
              "      <td>exposed-2</td>\n",
              "      <td>do-nothing</td>\n",
              "      <td>-1.0</td>\n",
              "    </tr>\n",
              "    <tr>\n",
              "      <th>4</th>\n",
              "      <td>exposed-3</td>\n",
              "      <td>do-nothing</td>\n",
              "      <td>-1.0</td>\n",
              "    </tr>\n",
              "    <tr>\n",
              "      <th>6</th>\n",
              "      <td>symptoms-1</td>\n",
              "      <td>do-nothing</td>\n",
              "      <td>-1.0</td>\n",
              "    </tr>\n",
              "    <tr>\n",
              "      <th>8</th>\n",
              "      <td>symptoms-2</td>\n",
              "      <td>do-nothing</td>\n",
              "      <td>-1.0</td>\n",
              "    </tr>\n",
              "  </tbody>\n",
              "</table>\n",
              "</div>"
            ],
            "text/plain": [
              "        state      action  reward\n",
              "0   exposed-1  do-nothing    -1.0\n",
              "2   exposed-2  do-nothing    -1.0\n",
              "4   exposed-3  do-nothing    -1.0\n",
              "6  symptoms-1  do-nothing    -1.0\n",
              "8  symptoms-2  do-nothing    -1.0"
            ]
          },
          "execution_count": 66,
          "metadata": {},
          "output_type": "execute_result"
        }
      ],
      "source": [
        "# YOUR CHANGES HERE\n",
        "\n",
        "state_action_pairs.to_csv(\"duration-rewards.tsv\", sep=\"\\t\", index=False)\n",
        "\n",
        "state_action_pairs.head()"
      ]
    },
    {
      "cell_type": "markdown",
      "metadata": {
        "id": "r0lubs9v-5XQ"
      },
      "source": [
        "Submit \"duration-rewards.tsv\" in Gradescope."
      ]
    },
    {
      "cell_type": "markdown",
      "metadata": {
        "id": "Jf73YFzB-802"
      },
      "source": [
        "## Part 5: Optimize for Shorter Twizzleflu\n",
        "\n",
        "Compute an optimal policy to minimize the duration of Twizzleflu."
      ]
    },
    {
      "cell_type": "code",
      "execution_count": 67,
      "metadata": {
        "id": "Sa_HI0f0_FHA"
      },
      "outputs": [],
      "source": [
        "# YOUR CHANGES HERE\n",
        "\n",
        "transitions = pd.read_csv(\"twizzleflu-transitions.tsv\", sep=\"\\t\")\n",
        "duration_rewards = pd.read_csv(\"duration-rewards.tsv\", sep=\"\\t\")\n",
        "\n",
        "states = sorted(set(transitions[\"state\"]) | set(transitions[\"next_state\"]) | set(duration_rewards[\"state\"]))\n",
        "actions = sorted(set(transitions[\"action\"]) | set(duration_rewards[\"action\"]))\n",
        "\n",
        "P = {}\n",
        "for s in states:\n",
        "    for a in actions:\n",
        "        mask = (transitions[\"state\"] == s) & (transitions[\"action\"] == a)\n",
        "        if mask.any():\n",
        "            P[(s, a)] = list(zip(transitions.loc[mask, \"next_state\"], transitions.loc[mask, \"probability\"]))\n",
        "\n",
        "R = {(row[\"state\"], row[\"action\"]): float(row[\"reward\"]) for _, row in duration_rewards.iterrows()}\n",
        "\n",
        "gamma = 1\n",
        "threshold = 1e-8\n",
        "V = {s: 0.0 for s in states}\n",
        "\n",
        "def q_value(state, action, V_current):\n",
        "    r = R.get((state, action), 0.0)\n",
        "    future = 0.0\n",
        "    if (state, action) in P:\n",
        "        for s2, p in P[(state, action)]:\n",
        "            future += p * V_current[s2]\n",
        "    return r + gamma * future\n",
        "\n",
        "while True:\n",
        "    delta = 0.0\n",
        "    V_new = {}\n",
        "    for s in states:\n",
        "        cand = [a for a in actions if (s, a) in R or (s, a) in P]\n",
        "        if cand:\n",
        "            q_vals = [q_value(s, a, V) for a in cand]\n",
        "            V_new[s] = max(q_vals)  \n",
        "        else:\n",
        "            V_new[s] = V[s]\n",
        "        delta = max(delta, abs(V_new[s] - V[s]))\n",
        "    V = V_new\n",
        "    if delta < threshold:\n",
        "        break\n",
        "\n",
        "policy_rows = []\n",
        "for s in states:\n",
        "    cand = [a for a in actions if (s, a) in R or (s, a) in P]\n",
        "    if cand:\n",
        "        q_pairs = [(a, q_value(s, a, V)) for a in cand]\n",
        "        best_a = max(q_pairs, key=lambda x: x[1])[0]\n",
        "    else:\n",
        "        best_a = \"none\"\n",
        "    policy_rows.append({\"state\": s, \"action\": best_a})"
      ]
    },
    {
      "cell_type": "markdown",
      "metadata": {
        "id": "px1xDndA_F3O"
      },
      "source": [
        "Save the optimal actions for each state to a file \"minimum-duration-actions.tsv\" with columns state and action."
      ]
    },
    {
      "cell_type": "code",
      "execution_count": 68,
      "metadata": {
        "id": "PGvWqSiI_Sqy"
      },
      "outputs": [
        {
          "data": {
            "text/html": [
              "<div>\n",
              "<style scoped>\n",
              "    .dataframe tbody tr th:only-of-type {\n",
              "        vertical-align: middle;\n",
              "    }\n",
              "\n",
              "    .dataframe tbody tr th {\n",
              "        vertical-align: top;\n",
              "    }\n",
              "\n",
              "    .dataframe thead th {\n",
              "        text-align: right;\n",
              "    }\n",
              "</style>\n",
              "<table border=\"1\" class=\"dataframe\">\n",
              "  <thead>\n",
              "    <tr style=\"text-align: right;\">\n",
              "      <th></th>\n",
              "      <th>state</th>\n",
              "      <th>action</th>\n",
              "    </tr>\n",
              "  </thead>\n",
              "  <tbody>\n",
              "    <tr>\n",
              "      <th>0</th>\n",
              "      <td>exposed-1</td>\n",
              "      <td>sleep-8</td>\n",
              "    </tr>\n",
              "    <tr>\n",
              "      <th>1</th>\n",
              "      <td>exposed-2</td>\n",
              "      <td>sleep-8</td>\n",
              "    </tr>\n",
              "    <tr>\n",
              "      <th>2</th>\n",
              "      <td>exposed-3</td>\n",
              "      <td>sleep-8</td>\n",
              "    </tr>\n",
              "    <tr>\n",
              "      <th>3</th>\n",
              "      <td>recovered</td>\n",
              "      <td>do-nothing</td>\n",
              "    </tr>\n",
              "    <tr>\n",
              "      <th>4</th>\n",
              "      <td>symptoms-1</td>\n",
              "      <td>do-nothing</td>\n",
              "    </tr>\n",
              "  </tbody>\n",
              "</table>\n",
              "</div>"
            ],
            "text/plain": [
              "        state      action\n",
              "0   exposed-1     sleep-8\n",
              "1   exposed-2     sleep-8\n",
              "2   exposed-3     sleep-8\n",
              "3   recovered  do-nothing\n",
              "4  symptoms-1  do-nothing"
            ]
          },
          "execution_count": 68,
          "metadata": {},
          "output_type": "execute_result"
        }
      ],
      "source": [
        "# YOUR CHANGES HERE\n",
        "\n",
        "policy_df = pd.DataFrame(policy_rows)\n",
        "policy_df.to_csv(\"minimum-duration-actions.tsv\", sep=\"\\t\", index=False)\n",
        "\n",
        "policy_df.head()"
      ]
    },
    {
      "cell_type": "markdown",
      "metadata": {
        "id": "itPVLMaM_UDn"
      },
      "source": [
        "Submit \"minimum-duration-actions.tsv\" in Gradescope."
      ]
    },
    {
      "cell_type": "markdown",
      "metadata": {
        "id": "eOzSQ3fV_XBO"
      },
      "source": [
        "## Part 6: Shorter Twizzleflu?\n",
        "\n",
        "Compute the expected number of days sick for each state to a file."
      ]
    },
    {
      "cell_type": "code",
      "execution_count": 69,
      "metadata": {
        "id": "WO_yubXg_gxn"
      },
      "outputs": [],
      "source": [
        "# YOUR CHANGES HERE\n",
        "\n",
        "transitions = pd.read_csv(\"twizzleflu-transitions.tsv\", sep=\"\\t\")\n",
        "duration_rewards = pd.read_csv(\"duration-rewards.tsv\", sep=\"\\t\")\n",
        "policy_df = pd.read_csv(\"minimum-duration-actions.tsv\", sep=\"\\t\")\n",
        "policy = dict(zip(policy_df[\"state\"], policy_df[\"action\"]))\n",
        "\n",
        "states = sorted(set(transitions[\"state\"]) | set(transitions[\"next_state\"]) | set(duration_rewards[\"state\"]))\n",
        "idx = {s: i for i, s in enumerate(states)}\n",
        "n = len(states)\n",
        "\n",
        "P_pi = np.zeros((n, n))\n",
        "r = np.zeros(n)\n",
        "\n",
        "grouped = transitions.groupby([\"state\", \"action\"])\n",
        "\n",
        "R = {(row[\"state\"], row[\"action\"]): float(row[\"reward\"]) for _, row in duration_rewards.iterrows()}\n",
        "\n",
        "for s in states:\n",
        "    a = policy.get(s, None)\n",
        "    i = idx[s]\n",
        "    if a is not None:\n",
        "        r[i] = -1.0 if any(v < 0 for (ss, aa), v in R.items() if ss == s) else 0.0\n",
        "        \n",
        "        if (s, a) in grouped.groups:\n",
        "            sub = grouped.get_group((s, a))\n",
        "            for _, row in sub.iterrows():\n",
        "                j = idx[row[\"next_state\"]]\n",
        "                P_pi[i, j] += float(row[\"probability\"])\n",
        "    else:\n",
        "        r[i] = 0.0\n",
        "\n",
        "I = np.eye(n)\n",
        "try:\n",
        "    V = np.linalg.solve(I - P_pi, r)\n",
        "except np.linalg.LinAlgError:\n",
        "    gamma = 1\n",
        "    V_iter = np.zeros(n)\n",
        "    for _ in range(100000):\n",
        "        V_new = r + gamma * P_pi.dot(V_iter)\n",
        "        if np.max(np.abs(V_new - V_iter)) < 1e-10:\n",
        "            break\n",
        "        V_iter = V_new\n",
        "    V = V_iter\n",
        "\n",
        "expected_sick_days = -V  "
      ]
    },
    {
      "cell_type": "markdown",
      "metadata": {
        "id": "_Zf8j6_D_hbZ"
      },
      "source": [
        "Save the expected sick days for each state to a file \"minimum-duration-days.tsv\" with columns state and expected_sick_days."
      ]
    },
    {
      "cell_type": "code",
      "execution_count": 70,
      "metadata": {
        "id": "yWS2HNVl_o3P"
      },
      "outputs": [
        {
          "data": {
            "text/html": [
              "<div>\n",
              "<style scoped>\n",
              "    .dataframe tbody tr th:only-of-type {\n",
              "        vertical-align: middle;\n",
              "    }\n",
              "\n",
              "    .dataframe tbody tr th {\n",
              "        vertical-align: top;\n",
              "    }\n",
              "\n",
              "    .dataframe thead th {\n",
              "        text-align: right;\n",
              "    }\n",
              "</style>\n",
              "<table border=\"1\" class=\"dataframe\">\n",
              "  <thead>\n",
              "    <tr style=\"text-align: right;\">\n",
              "      <th></th>\n",
              "      <th>state</th>\n",
              "      <th>expected_sick_days</th>\n",
              "    </tr>\n",
              "  </thead>\n",
              "  <tbody>\n",
              "    <tr>\n",
              "      <th>0</th>\n",
              "      <td>exposed-1</td>\n",
              "      <td>3.0</td>\n",
              "    </tr>\n",
              "    <tr>\n",
              "      <th>1</th>\n",
              "      <td>exposed-2</td>\n",
              "      <td>4.0</td>\n",
              "    </tr>\n",
              "    <tr>\n",
              "      <th>2</th>\n",
              "      <td>exposed-3</td>\n",
              "      <td>6.0</td>\n",
              "    </tr>\n",
              "    <tr>\n",
              "      <th>3</th>\n",
              "      <td>recovered</td>\n",
              "      <td>-0.0</td>\n",
              "    </tr>\n",
              "    <tr>\n",
              "      <th>4</th>\n",
              "      <td>symptoms-1</td>\n",
              "      <td>10.0</td>\n",
              "    </tr>\n",
              "  </tbody>\n",
              "</table>\n",
              "</div>"
            ],
            "text/plain": [
              "        state  expected_sick_days\n",
              "0   exposed-1                 3.0\n",
              "1   exposed-2                 4.0\n",
              "2   exposed-3                 6.0\n",
              "3   recovered                -0.0\n",
              "4  symptoms-1                10.0"
            ]
          },
          "execution_count": 70,
          "metadata": {},
          "output_type": "execute_result"
        }
      ],
      "source": [
        "# YOUR CHANGES HERE\n",
        "\n",
        "out_df = pd.DataFrame({\"state\": states, \"expected_sick_days\": expected_sick_days})\n",
        "out_df.to_csv(\"minimum-duration-days.tsv\", sep=\"\\t\", index=False)\n",
        "\n",
        "out_df.head()"
      ]
    },
    {
      "cell_type": "markdown",
      "metadata": {
        "id": "SVApozXF_pjI"
      },
      "source": [
        "Submit \"minimum-duration-days.tsv\" in Gradescope."
      ]
    },
    {
      "cell_type": "markdown",
      "metadata": {
        "id": "Znw87KK7_uv5"
      },
      "source": [
        "## Part 7: Speed vs Pampering\n",
        "\n",
        "Compute the expected discomfort using the policy to minimize days sick, and compare the results to the expected discomfort when optimizing to minimize discomfort."
      ]
    },
    {
      "cell_type": "code",
      "execution_count": 75,
      "metadata": {
        "id": "0AdnpD-6__y5"
      },
      "outputs": [],
      "source": [
        "# YOUR CHANGES HERE\n",
        "\n",
        "transitions = pd.read_csv(\"twizzleflu-transitions.tsv\", sep=\"\\t\")\n",
        "rewards = pd.read_csv(\"twizzleflu-rewards.tsv\", sep=\"\\t\")\n",
        "\n",
        "policy_speed_df = pd.read_csv(\"minimum-duration-actions.tsv\", sep=\"\\t\")   \n",
        "policy_discomf_df = pd.read_csv(\"minimum-discomfort-actions.tsv\", sep=\"\\t\") \n",
        "\n",
        "policy_speed = dict(zip(policy_speed_df[\"state\"], policy_speed_df[\"action\"]))\n",
        "policy_discomf = dict(zip(policy_discomf_df[\"state\"], policy_discomf_df[\"action\"]))\n",
        "\n",
        "states = sorted(set(transitions[\"state\"]) | set(transitions[\"next_state\"]) | set(rewards[\"state\"]))\n",
        "idx = {s: i for i, s in enumerate(states)}\n",
        "n = len(states)\n",
        "\n",
        "grouped = transitions.groupby([\"state\", \"action\"])\n",
        "\n",
        "R = {(row[\"state\"], row[\"action\"]): float(row[\"reward\"]) for _, row in rewards.iterrows()}\n",
        "\n",
        "def evaluate_policy(policy, gamma=1, threshold=1e-8):\n",
        "    V = np.zeros(n)\n",
        "    while True:\n",
        "        delta = 0.0\n",
        "        V_new = np.copy(V)\n",
        "        for s in states:\n",
        "            a = policy.get(s, None)\n",
        "            i = idx[s]\n",
        "            if a is None:\n",
        "                continue\n",
        "            r_sa = R.get((s, a), 0.0)\n",
        "            if (s, a) in grouped.groups:\n",
        "                sub = grouped.get_group((s, a))\n",
        "                future = np.sum(sub[\"probability\"].to_numpy() * np.array([V[idx[ns]] for ns in sub[\"next_state\"].to_numpy()]))\n",
        "            else:\n",
        "                future = 0.0\n",
        "            V_new[i] = r_sa + gamma * future\n",
        "            delta = max(delta, abs(V_new[i] - V[i]))\n",
        "        V = V_new\n",
        "        if delta < threshold:\n",
        "            break\n",
        "    return -V\n",
        "\n",
        "speed_discomfort = evaluate_policy(policy_speed)          \n",
        "min_discomfort = evaluate_policy(policy_discomf)"
      ]
    },
    {
      "cell_type": "markdown",
      "metadata": {
        "id": "M3ZVJ2lcAAkP"
      },
      "source": [
        "Save the results to a file \"policy-comparison.tsv\" with columns state, speed_discomfort, and minimize_discomfort."
      ]
    },
    {
      "cell_type": "code",
      "execution_count": 76,
      "metadata": {
        "id": "9H9EG0zTAMt1"
      },
      "outputs": [
        {
          "data": {
            "text/html": [
              "<div>\n",
              "<style scoped>\n",
              "    .dataframe tbody tr th:only-of-type {\n",
              "        vertical-align: middle;\n",
              "    }\n",
              "\n",
              "    .dataframe tbody tr th {\n",
              "        vertical-align: top;\n",
              "    }\n",
              "\n",
              "    .dataframe thead th {\n",
              "        text-align: right;\n",
              "    }\n",
              "</style>\n",
              "<table border=\"1\" class=\"dataframe\">\n",
              "  <thead>\n",
              "    <tr style=\"text-align: right;\">\n",
              "      <th></th>\n",
              "      <th>state</th>\n",
              "      <th>speed_discomfort</th>\n",
              "      <th>minimize_discomfort</th>\n",
              "    </tr>\n",
              "  </thead>\n",
              "  <tbody>\n",
              "    <tr>\n",
              "      <th>0</th>\n",
              "      <td>exposed-1</td>\n",
              "      <td>0.833333</td>\n",
              "      <td>0.75</td>\n",
              "    </tr>\n",
              "    <tr>\n",
              "      <th>1</th>\n",
              "      <td>exposed-2</td>\n",
              "      <td>1.666667</td>\n",
              "      <td>1.50</td>\n",
              "    </tr>\n",
              "    <tr>\n",
              "      <th>2</th>\n",
              "      <td>exposed-3</td>\n",
              "      <td>3.333333</td>\n",
              "      <td>3.00</td>\n",
              "    </tr>\n",
              "    <tr>\n",
              "      <th>3</th>\n",
              "      <td>recovered</td>\n",
              "      <td>-0.000000</td>\n",
              "      <td>-0.00</td>\n",
              "    </tr>\n",
              "    <tr>\n",
              "      <th>4</th>\n",
              "      <td>symptoms-1</td>\n",
              "      <td>6.666667</td>\n",
              "      <td>6.00</td>\n",
              "    </tr>\n",
              "  </tbody>\n",
              "</table>\n",
              "</div>"
            ],
            "text/plain": [
              "        state  speed_discomfort  minimize_discomfort\n",
              "0   exposed-1          0.833333                 0.75\n",
              "1   exposed-2          1.666667                 1.50\n",
              "2   exposed-3          3.333333                 3.00\n",
              "3   recovered         -0.000000                -0.00\n",
              "4  symptoms-1          6.666667                 6.00"
            ]
          },
          "execution_count": 76,
          "metadata": {},
          "output_type": "execute_result"
        }
      ],
      "source": [
        "# YOUR CHANGES HERE\n",
        "\n",
        "out_df = pd.DataFrame({\n",
        "    \"state\": states,\n",
        "    \"speed_discomfort\": speed_discomfort,\n",
        "    \"minimize_discomfort\": min_discomfort\n",
        "})\n",
        "out_df.to_csv(\"policy-comparison.tsv\", sep=\"\\t\", index=False)\n",
        "out_df.head()"
      ]
    },
    {
      "cell_type": "markdown",
      "metadata": {
        "id": "EVhLZuuaANNf"
      },
      "source": [
        "Submit \"policy-comparison.tsv\" in Gradescope."
      ]
    },
    {
      "cell_type": "markdown",
      "metadata": {
        "id": "smsTLuFcvR-I"
      },
      "source": [
        "## Part 8: Code\n",
        "\n",
        "Please submit a Jupyter notebook that can reproduce all your calculations and recreate the previously submitted files."
      ]
    },
    {
      "cell_type": "markdown",
      "metadata": {
        "id": "zi8lV2pbvWMs"
      },
      "source": [
        "## Part 9: Acknowledgements\n",
        "\n",
        "If you discussed this assignment with anyone, please acknowledge them here.\n",
        "If you did this assignment completely on your own, simply write none below.\n",
        "\n",
        "If you used any libraries not mentioned in this module's content, please list them with a brief explanation what you used them for. If you did not use any other libraries, simply write none below.\n",
        "\n",
        "If you used any generative AI tools, please add links to your transcripts below, and any other information that you feel is necessary to comply with the generative AI policy. If you did not use any generative AI tools, simply write none below."
      ]
    },
    {
      "cell_type": "markdown",
      "metadata": {},
      "source": [
        "None"
      ]
    }
  ],
  "metadata": {
    "colab": {
      "toc_visible": false
    },
    "kernelspec": {
      "display_name": "Python 3",
      "name": "python3"
    },
    "language_info": {
      "codemirror_mode": {
        "name": "ipython",
        "version": 3
      },
      "file_extension": ".py",
      "mimetype": "text/x-python",
      "name": "python",
      "nbconvert_exporter": "python",
      "pygments_lexer": "ipython3",
      "version": "3.12.1"
    }
  },
  "nbformat": 4,
  "nbformat_minor": 0
}
